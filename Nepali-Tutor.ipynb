{
 "cells": [
  {
   "cell_type": "markdown",
   "metadata": {},
   "source": [
    "# Large Language Model Tutor for Global Minority Languages\n",
    "\n",
    "## Introduction\n",
    "\n",
    "### Problem Description\n",
    "\n",
    "The recent success of Large Language Models (LLMs) has driven a great deal of interest in applications ranging from homework help to global domination.\n",
    "\n",
    "One of the most exciting possibilities for LLMs is their application to problems of knowledge accessibility.\n",
    "\n",
    "Companies like DuoLingo and Khan Academy are leveraging LLMs and other forms of machine learning to provide a replacement for a human tutor. However, there is a dearth of learning resources available for global minority languages, that is, languages that are not among the languages most widely spoken.\n",
    "\n",
    "One such language is Nepali. Nepali is spoken natively by 16 million people and is used as a second language by an additional 9 million, yet it is rarely available as an option for machine translation and LLMs do not cater to its speakers.\n",
    "\n",
    "However, before effective tools can be made for the Nepali speaking population, it must also be possible for engineers and data scientists to learn Nepali.\n",
    "\n",
    "### Project Description\n",
    "\n",
    "In this project I will endeavor to create an AI Nepali tutor. The tutor should be able to understand English language sentences from its student and provide Nepali translations of those sentences. Additionally, it should be able to generate novel sentences in English and provide Nepali translations of those sentences.\n",
    "\n",
    "Further, Nepali uses the Devanagari script: a form of writing unfamiliar to many English speakers, especially in the west. Thus, the student should be able to provide an unfamiliar sentence in Nepali, written in this script, and receive a translation from the tutor.\n",
    "\n",
    "For this project I will train a series of models. The first will translate English sentences to Nepali. The second will translate written Nepali into written English. Finally, the third will generate novel sentences in English.\n",
    "\n",
    "This project presents a unique challenge. There is very little high-quality data available for training on the Nepali language. As such, I've put significant effort into optimizing my models to be as effective as possible with with very little data.\n",
    "\n",
    "A github repo for this project can be found here:\n",
    "\n",
    "https://github.com/billingsmoore/nepali-tutor\n",
    "\n",
    "Note: Your computer may have trouble rendering the Devanagari script resulting in blanks where Nepali sentences should be. Viewing this notebook as a PDF should resolve that issue."
   ]
  },
  {
   "cell_type": "markdown",
   "metadata": {},
   "source": [
    "## English to Nepali Translation\n",
    "\n",
    "First, I will create a model to translate English sentences into Nepali sentences. To create this model, I drew on the Keras tutorial provided here:\n",
    "\n",
    "https://keras.io/examples/nlp/neural_machine_translation_with_keras_nlp/\n",
    "\n",
    "I've adapted the model from the tutorial to translate English into Nepali, rather than Spanish, and streamlined the code for simplicity and to meet my need for computational efficiency. Additionally, I've substantially altered the model in order to more fully optimize for the much, much smaller dataset available for the Nepali language.\n",
    "\n",
    "The first step of this process is to import the necessary libraries."
   ]
  },
  {
   "cell_type": "markdown",
   "metadata": {},
   "source": [
    "### Setup"
   ]
  },
  {
   "cell_type": "code",
   "execution_count": 116,
   "metadata": {},
   "outputs": [],
   "source": [
    "import pathlib\n",
    "import random\n",
    "import tensorflow as tf\n",
    "from tensorflow import keras\n",
    "import keras_nlp\n",
    "import matplotlib.pyplot as plt"
   ]
  },
  {
   "cell_type": "markdown",
   "metadata": {},
   "source": [
    "Next, I will establish the necessary constants for the model. \n",
    "\n",
    "I will use a batch size of 4 for my data. This an EXTREMELY small batch size. I'm using such a small batch size in hopes of it helping to account for the extreme smallness of my dataset. This will lead to slower convergence. However, with a larger number of epochs and a careful choice of optimization algorithms (to be discussed later) we can get away with it.\n",
    "\n",
    "I will train the model for 100 epochs. I had initially hoped to get away with fewer, however, with such small batch sizes, convergence takes longer.\n",
    "\n",
    "I also establish a size for the vocabulary that the model will use and the dimensions for the model to expect from the data. \n",
    "\n",
    "An interesting addition here is AUTOTUNE. tf.data.AUTOTUNE will automate optimization for training the model. This is extremely useful both for effectively utilizing computing resources, and for avoiding too much time lost to optimization tinkering."
   ]
  },
  {
   "cell_type": "code",
   "execution_count": 3,
   "metadata": {},
   "outputs": [],
   "source": [
    "BATCH_SIZE = 4\n",
    "EPOCHS = 100\n",
    "MAX_SEQUENCE_LENGTH = 40\n",
    "VOCAB_SIZE = 15000\n",
    "\n",
    "EMBED_DIM = 256\n",
    "INTERMEDIATE_DIM = 2048\n",
    "NUM_HEADS = 8\n",
    "\n",
    "AUTOTUNE = tf.data.AUTOTUNE"
   ]
  },
  {
   "cell_type": "markdown",
   "metadata": {},
   "source": [
    "### Importing and Exploring the Data\n",
    "\n",
    "Now I will import the dataset that this model will be trained on. This data comes from Anki, a free, open-source flashcard program that is popular with language learners. It is available from this link:\n",
    "\n",
    "https://www.manythings.org/anki/\n",
    "\n",
    "I've then split the sentence pairs into two sets and set every English letter to be lowercase to avoid any confusion in the model. This is not necessary for Nepali because the Devanagari script does not use upper and lower cases."
   ]
  },
  {
   "cell_type": "code",
   "execution_count": 4,
   "metadata": {},
   "outputs": [],
   "source": [
    "text_file = pathlib.Path('datasets/npi-eng/npi.txt')\n",
    "\n",
    "with open(text_file) as f:\n",
    "    lines = f.read().split(\"\\n\")[:-1]\n",
    "text_pairs = []\n",
    "for line in lines:\n",
    "    eng, nep = line.split(\"\\t\")[:2]\n",
    "    eng = eng.lower()\n",
    "    text_pairs.append((eng, nep))"
   ]
  },
  {
   "cell_type": "markdown",
   "metadata": {},
   "source": [
    "The data comes in the form of numerous sentence pairs. First the sentence is given in English, then in Nepali. Each pair also has a source attribution, but that won't be necessary for the model. Below, I've printed some representative sentence pairs."
   ]
  },
  {
   "cell_type": "code",
   "execution_count": 5,
   "metadata": {},
   "outputs": [
    {
     "name": "stdout",
     "output_type": "stream",
     "text": [
      "('there are always exceptions.', 'त्यहाँ सधैं अपवादहरू छन्।')\n",
      "('tom was killed in 2013.', 'टमको हत्या सन् २०१३ मा भएको थियो ।')\n",
      "('we are classmates.', 'हामी सहपाठी हौं।')\n",
      "('let tom do whatever he wants to do.', 'टमले जे गर्न चाहन्छ त्यो गर्न दिनुहोस्।')\n",
      "('tom was quicker than mary.', 'टम मेरी भन्दा छिटो थियो।')\n"
     ]
    }
   ],
   "source": [
    "for _ in range(5):\n",
    "    print(random.choice(text_pairs))"
   ]
  },
  {
   "cell_type": "markdown",
   "metadata": {},
   "source": [
    "Now, we can split the sentence pairs into training, validation, and test sets. Notice that this dataset is quite small. This is one of the challenges of creating models for global minority languages. There is substantially less data to work with than if we were working with, for example, Spanish or French. As a result, I've allocated just 5% of the pairs to validation and testing respectively."
   ]
  },
  {
   "cell_type": "code",
   "execution_count": 6,
   "metadata": {},
   "outputs": [
    {
     "name": "stdout",
     "output_type": "stream",
     "text": [
      "1574 total pairs\n",
      "1418 training pairs\n",
      "78 validation pairs\n",
      "78 test pairs\n"
     ]
    }
   ],
   "source": [
    "random.shuffle(text_pairs)\n",
    "num_val_samples = int(0.05 * len(text_pairs))\n",
    "num_train_samples = len(text_pairs) - 2 * num_val_samples\n",
    "train_pairs = text_pairs[:num_train_samples]\n",
    "val_pairs = text_pairs[num_train_samples : num_train_samples + num_val_samples]\n",
    "test_pairs = text_pairs[num_train_samples + num_val_samples:]\n",
    "\n",
    "print(f\"{len(text_pairs)} total pairs\")\n",
    "print(f\"{len(train_pairs)} training pairs\")\n",
    "print(f\"{len(val_pairs)} validation pairs\")\n",
    "print(f\"{len(test_pairs)} test pairs\")"
   ]
  },
  {
   "cell_type": "markdown",
   "metadata": {},
   "source": [
    "### Creating the Tokenizer\n",
    "\n",
    "The tokenizer will assign each unique word in the dataset a 'token' a unique number that allows the data to be treated numerically during model training. In order to do this, a \"vocabulary\" must first be created. This is a complete list of the unique English and Nepali words in the dataset."
   ]
  },
  {
   "cell_type": "markdown",
   "metadata": {},
   "source": [
    "#### Vocabulary"
   ]
  },
  {
   "cell_type": "code",
   "execution_count": 7,
   "metadata": {},
   "outputs": [],
   "source": [
    "def train_word_piece(text_samples, vocab_size, reserved_tokens):\n",
    "    word_piece_ds = tf.data.Dataset.from_tensor_slices(text_samples)\n",
    "    vocab = keras_nlp.tokenizers.compute_word_piece_vocabulary(\n",
    "        word_piece_ds.batch(1000).prefetch(2),\n",
    "        vocabulary_size=vocab_size,\n",
    "        reserved_tokens=reserved_tokens,\n",
    "    )\n",
    "\n",
    "    return vocab"
   ]
  },
  {
   "cell_type": "markdown",
   "metadata": {},
   "source": [
    "#### Tokenizing\n",
    "\n",
    "Note that I've set aside some peculiar tokens. These correspond to whitespace,unknown characters, the beginnings and endings of sentences. I don't want the tokenizer to treat these things as words that need to be tokenized."
   ]
  },
  {
   "cell_type": "code",
   "execution_count": 8,
   "metadata": {},
   "outputs": [
    {
     "name": "stderr",
     "output_type": "stream",
     "text": [
      "2023-08-18 10:59:12.371422: I tensorflow/compiler/xla/stream_executor/cuda/cuda_gpu_executor.cc:995] successful NUMA node read from SysFS had negative value (-1), but there must be at least one NUMA node, so returning NUMA node zero. See more at https://github.com/torvalds/linux/blob/v6.0/Documentation/ABI/testing/sysfs-bus-pci#L344-L355\n",
      "2023-08-18 10:59:14.363718: I tensorflow/compiler/xla/stream_executor/cuda/cuda_gpu_executor.cc:995] successful NUMA node read from SysFS had negative value (-1), but there must be at least one NUMA node, so returning NUMA node zero. See more at https://github.com/torvalds/linux/blob/v6.0/Documentation/ABI/testing/sysfs-bus-pci#L344-L355\n",
      "2023-08-18 10:59:14.364029: I tensorflow/compiler/xla/stream_executor/cuda/cuda_gpu_executor.cc:995] successful NUMA node read from SysFS had negative value (-1), but there must be at least one NUMA node, so returning NUMA node zero. See more at https://github.com/torvalds/linux/blob/v6.0/Documentation/ABI/testing/sysfs-bus-pci#L344-L355\n",
      "2023-08-18 10:59:14.386559: I tensorflow/compiler/xla/stream_executor/cuda/cuda_gpu_executor.cc:995] successful NUMA node read from SysFS had negative value (-1), but there must be at least one NUMA node, so returning NUMA node zero. See more at https://github.com/torvalds/linux/blob/v6.0/Documentation/ABI/testing/sysfs-bus-pci#L344-L355\n",
      "2023-08-18 10:59:14.387023: I tensorflow/compiler/xla/stream_executor/cuda/cuda_gpu_executor.cc:995] successful NUMA node read from SysFS had negative value (-1), but there must be at least one NUMA node, so returning NUMA node zero. See more at https://github.com/torvalds/linux/blob/v6.0/Documentation/ABI/testing/sysfs-bus-pci#L344-L355\n",
      "2023-08-18 10:59:14.387300: I tensorflow/compiler/xla/stream_executor/cuda/cuda_gpu_executor.cc:995] successful NUMA node read from SysFS had negative value (-1), but there must be at least one NUMA node, so returning NUMA node zero. See more at https://github.com/torvalds/linux/blob/v6.0/Documentation/ABI/testing/sysfs-bus-pci#L344-L355\n",
      "2023-08-18 10:59:14.714651: I tensorflow/compiler/xla/stream_executor/cuda/cuda_gpu_executor.cc:995] successful NUMA node read from SysFS had negative value (-1), but there must be at least one NUMA node, so returning NUMA node zero. See more at https://github.com/torvalds/linux/blob/v6.0/Documentation/ABI/testing/sysfs-bus-pci#L344-L355\n",
      "2023-08-18 10:59:14.715049: I tensorflow/compiler/xla/stream_executor/cuda/cuda_gpu_executor.cc:995] successful NUMA node read from SysFS had negative value (-1), but there must be at least one NUMA node, so returning NUMA node zero. See more at https://github.com/torvalds/linux/blob/v6.0/Documentation/ABI/testing/sysfs-bus-pci#L344-L355\n",
      "2023-08-18 10:59:14.715398: I tensorflow/compiler/xla/stream_executor/cuda/cuda_gpu_executor.cc:995] successful NUMA node read from SysFS had negative value (-1), but there must be at least one NUMA node, so returning NUMA node zero. See more at https://github.com/torvalds/linux/blob/v6.0/Documentation/ABI/testing/sysfs-bus-pci#L344-L355\n",
      "2023-08-18 10:59:14.715709: I tensorflow/core/common_runtime/gpu/gpu_device.cc:1639] Created device /job:localhost/replica:0/task:0/device:GPU:0 with 10075 MB memory:  -> device: 0, name: NVIDIA GeForce RTX 4070, pci bus id: 0000:01:00.0, compute capability: 8.9\n"
     ]
    }
   ],
   "source": [
    "reserved_tokens = [\"[PAD]\", \"[UNK]\", \"[START]\", \"[END]\"]\n",
    "\n",
    "eng_samples = [text_pair[0] for text_pair in train_pairs]\n",
    "eng_vocab = train_word_piece(eng_samples, VOCAB_SIZE, reserved_tokens)\n",
    "\n",
    "nep_samples = [text_pair[1] for text_pair in train_pairs]\n",
    "nep_vocab = train_word_piece(nep_samples, VOCAB_SIZE, reserved_tokens)"
   ]
  },
  {
   "cell_type": "markdown",
   "metadata": {},
   "source": [
    "Below we can see some example words from the dataset. Note that Nepali uses a distinct writing system that may not render correctly."
   ]
  },
  {
   "cell_type": "code",
   "execution_count": 9,
   "metadata": {},
   "outputs": [
    {
     "name": "stdout",
     "output_type": "stream",
     "text": [
      "English Tokens:  ['much', 'old', 're', 'really', '##al']\n",
      "Nepali Tokens:  ['किन', 'खान', 'तिमीलाई', 'पर्छ', 'भनेर']\n"
     ]
    }
   ],
   "source": [
    "print(\"English Tokens: \", eng_vocab[150:155])\n",
    "print(\"Nepali Tokens: \", nep_vocab[200:205])"
   ]
  },
  {
   "cell_type": "markdown",
   "metadata": {},
   "source": [
    "Finally, we can tokenize the vocabularies."
   ]
  },
  {
   "cell_type": "code",
   "execution_count": 10,
   "metadata": {},
   "outputs": [],
   "source": [
    "eng_tokenizer = keras_nlp.tokenizers.WordPieceTokenizer(\n",
    "    vocabulary=eng_vocab, lowercase=False\n",
    ")\n",
    "\n",
    "nep_tokenizer = keras_nlp.tokenizers.WordPieceTokenizer(\n",
    "    vocabulary=nep_vocab, lowercase=False\n",
    ")"
   ]
  },
  {
   "cell_type": "markdown",
   "metadata": {},
   "source": [
    "### Data Preprocessing\n",
    "\n",
    "Next, I will preprocess each batch of data. This consists of re-assembling the English-Nepali sentence pairs. Each sentence must be padded with the \"[PAD]\" whitespace token in order to make each sequence of tokens the same length. This is because the model expects inputs of a particular shape. Once the sentence has been padded to the appropriate length, a [START] token can be appended to the beginning and an [END] token appended to the end.\n",
    "\n",
    "Finally, this assembled dataset can be split into training and validation sets."
   ]
  },
  {
   "cell_type": "code",
   "execution_count": 123,
   "metadata": {},
   "outputs": [],
   "source": [
    "def eng_nep_preprocess_batch(eng, nep):\n",
    "    batch_size = tf.shape(nep)[0]\n",
    "\n",
    "    eng = eng_tokenizer(eng)\n",
    "    nep = nep_tokenizer(nep)\n",
    "\n",
    "    # pad eng to max_sequence_length\n",
    "    eng_start_end_packer = keras_nlp.layers.StartEndPacker(\n",
    "        sequence_length=MAX_SEQUENCE_LENGTH,\n",
    "        pad_value = eng_tokenizer.token_to_id(\"[PAD]\"),\n",
    "    )\n",
    "\n",
    "    eng = eng_start_end_packer(eng)\n",
    "\n",
    "    # add special tokens [start] and [end] and pad nep\n",
    "    nep_start_end_packer = keras_nlp.layers.StartEndPacker(\n",
    "        sequence_length = MAX_SEQUENCE_LENGTH + 1,\n",
    "        start_value = nep_tokenizer.token_to_id(\"[START]\"),\n",
    "        end_value = nep_tokenizer.token_to_id(\"[END]\"),\n",
    "        pad_value = nep_tokenizer.token_to_id(\"[PAD]\")\n",
    "    )\n",
    "\n",
    "    nep = nep_start_end_packer(nep)\n",
    "\n",
    "    return (\n",
    "        {\n",
    "        \"encoder_inputs\": eng,\n",
    "        \"decoder_inputs\": nep[:, :-1]\n",
    "        },\n",
    "        nep[:, 1:],\n",
    "    )\n",
    "\n",
    "def make_dataset(pairs):\n",
    "    eng_texts, nep_texts = zip(*pairs)\n",
    "    eng_texts = list(eng_texts)\n",
    "    nep_texts = list(nep_texts)\n",
    "    dataset = tf.data.Dataset.from_tensor_slices((eng_texts, nep_texts))\n",
    "    dataset=dataset.batch(BATCH_SIZE)\n",
    "    dataset = dataset.map(eng_nep_preprocess_batch, num_parallel_calls=AUTOTUNE)\n",
    "    return dataset.shuffle(2048).prefetch(16).cache()\n",
    "\n",
    "eng_nep_train_ds = make_dataset(train_pairs)\n",
    "eng_nep_val_ds = make_dataset(val_pairs)"
   ]
  },
  {
   "cell_type": "markdown",
   "metadata": {},
   "source": [
    "### Creating the Model\n",
    "\n",
    "Now it's time to build the model itself. This model is an Autoencoder, which consists of an encoder and a decoder. \n",
    "\n",
    "The encoder input layer takes in a set of tokenized inputs. These inputs are then passed to a layer that accounts for the number assigned to the token as well as the position of that token in the sentence. The next layer is a typical dense Encoder layer.\n",
    "\n",
    "The decoder takes in a set of tokenized inputs from the Nepali dataset and passes them to a layer that will account for the token number and position of the token in those sentences. This is then passed to a typical dense Decoder layer.\n",
    "\n",
    "Both the Encoder and Decoder layers are helpfully provided out-of-the-box by Keras."
   ]
  },
  {
   "cell_type": "code",
   "execution_count": 122,
   "metadata": {},
   "outputs": [],
   "source": [
    "encoder_inputs = keras.Input(shape=(None,), dtype=\"int64\", name=\"encoder_inputs\")\n",
    "\n",
    "x = keras_nlp.layers.TokenAndPositionEmbedding(\n",
    "    vocabulary_size=VOCAB_SIZE,\n",
    "    sequence_length = MAX_SEQUENCE_LENGTH,\n",
    "    embedding_dim=EMBED_DIM,\n",
    "    mask_zero=True,\n",
    ")(encoder_inputs)\n",
    "\n",
    "encoder_outputs = keras_nlp.layers.TransformerEncoder(\n",
    "    intermediate_dim = INTERMEDIATE_DIM, num_heads=NUM_HEADS\n",
    ")(inputs=x)\n",
    "encoder = keras.Model(encoder_inputs, encoder_outputs)\n",
    "\n",
    "decoder_inputs = keras.Input(shape=(None,), dtype=\"int64\", name=\"decoder_inputs\")\n",
    "encoded_seq_inputs = keras.Input(shape=(None, EMBED_DIM), name=\"decoder_state_inputs\")\n",
    "\n",
    "x = keras_nlp.layers.TokenAndPositionEmbedding(\n",
    "    vocabulary_size=VOCAB_SIZE,\n",
    "    sequence_length=MAX_SEQUENCE_LENGTH,\n",
    "    embedding_dim=EMBED_DIM,\n",
    "    mask_zero=True,\n",
    ")(decoder_inputs)\n",
    "\n",
    "x = keras_nlp.layers.TransformerDecoder(\n",
    "    intermediate_dim=INTERMEDIATE_DIM, num_heads=NUM_HEADS\n",
    ")(decoder_sequence=x, encoder_sequence=encoded_seq_inputs)\n",
    "x = keras.layers.Dropout(0.5)(x)\n",
    "decoder_outputs = keras.layers.Dense(VOCAB_SIZE, activation=\"softmax\")(x)\n",
    "decoder = keras.Model(\n",
    "    [\n",
    "        decoder_inputs,\n",
    "        encoded_seq_inputs\n",
    "    ],\n",
    "    decoder_outputs,\n",
    ")\n",
    "decoder_outputs = decoder([decoder_inputs, encoder_outputs])\n",
    "\n",
    "eng_nep_translator = keras.Model(\n",
    "    [encoder_inputs, decoder_inputs],\n",
    "    decoder_outputs,\n",
    "    name=\"eng_nep_translator\",\n",
    ")"
   ]
  },
  {
   "cell_type": "markdown",
   "metadata": {},
   "source": [
    "#### Model Summary"
   ]
  },
  {
   "cell_type": "code",
   "execution_count": 13,
   "metadata": {},
   "outputs": [
    {
     "name": "stdout",
     "output_type": "stream",
     "text": [
      "Model: \"eng_nep_translator\"\n",
      "__________________________________________________________________________________________________\n",
      " Layer (type)                Output Shape                 Param #   Connected to                  \n",
      "==================================================================================================\n",
      " encoder_inputs (InputLayer  [(None, None)]               0         []                            \n",
      " )                                                                                                \n",
      "                                                                                                  \n",
      " token_and_position_embeddi  (None, None, 256)            3850240   ['encoder_inputs[0][0]']      \n",
      " ng (TokenAndPositionEmbedd                                                                       \n",
      " ing)                                                                                             \n",
      "                                                                                                  \n",
      " decoder_inputs (InputLayer  [(None, None)]               0         []                            \n",
      " )                                                                                                \n",
      "                                                                                                  \n",
      " transformer_encoder (Trans  (None, None, 256)            1315072   ['token_and_position_embedding\n",
      " formerEncoder)                                                     [0][0]']                      \n",
      "                                                                                                  \n",
      " model_1 (Functional)        (None, None, 15000)          9283992   ['decoder_inputs[0][0]',      \n",
      "                                                                     'transformer_encoder[0][0]'] \n",
      "                                                                                                  \n",
      "==================================================================================================\n",
      "Total params: 14449304 (55.12 MB)\n",
      "Trainable params: 14449304 (55.12 MB)\n",
      "Non-trainable params: 0 (0.00 Byte)\n",
      "__________________________________________________________________________________________________\n"
     ]
    }
   ],
   "source": [
    "eng_nep_translator.summary()"
   ]
  },
  {
   "cell_type": "markdown",
   "metadata": {},
   "source": [
    "### Compilation\n",
    "\n",
    "Now, I've compiled the model.\n",
    "\n",
    "Of note here is the choice of optimization algorith. I have used RMSProp. RMSProp is similar to Adagrad, which we studied in class, and as a result it converges much more quickly than, say, SGD. However, it is less susceptible to vanishing gradients. This is perfect for our small dataset with small batch sizes.\n",
    "\n",
    "The loss function is Sparse Categorical Crossentropy. Not every word appears in every sentence so the data for most natural language related tasks is necessarily sparse."
   ]
  },
  {
   "cell_type": "code",
   "execution_count": 125,
   "metadata": {},
   "outputs": [],
   "source": [
    "eng_nep_translator.compile(\n",
    "    \"rmsprop\", \n",
    "    loss=\"sparse_categorical_crossentropy\", \n",
    "    metrics=[\"accuracy\"]\n",
    ")"
   ]
  },
  {
   "cell_type": "markdown",
   "metadata": {},
   "source": [
    "### Fitting the Model"
   ]
  },
  {
   "cell_type": "code",
   "execution_count": 126,
   "metadata": {},
   "outputs": [
    {
     "name": "stdout",
     "output_type": "stream",
     "text": [
      "Epoch 1/100\n",
      "23/23 [==============================] - 15s 301ms/step - loss: 5.7427 - accuracy: 0.1268 - val_loss: 4.6218 - val_accuracy: 0.2142\n",
      "Epoch 2/100\n",
      "23/23 [==============================] - 0s 21ms/step - loss: 4.3512 - accuracy: 0.2179 - val_loss: 4.2112 - val_accuracy: 0.2256\n",
      "Epoch 3/100\n",
      "23/23 [==============================] - 1s 24ms/step - loss: 3.9231 - accuracy: 0.2553 - val_loss: 3.8240 - val_accuracy: 0.2549\n",
      "Epoch 4/100\n",
      "23/23 [==============================] - 1s 22ms/step - loss: 3.6029 - accuracy: 0.2820 - val_loss: 3.5899 - val_accuracy: 0.2769\n",
      "Epoch 5/100\n",
      "23/23 [==============================] - 1s 22ms/step - loss: 3.3899 - accuracy: 0.2981 - val_loss: 3.5028 - val_accuracy: 0.2834\n",
      "Epoch 6/100\n",
      "23/23 [==============================] - 1s 22ms/step - loss: 3.2422 - accuracy: 0.3088 - val_loss: 3.4117 - val_accuracy: 0.2818\n",
      "Epoch 7/100\n",
      "23/23 [==============================] - 0s 20ms/step - loss: 3.1218 - accuracy: 0.3177 - val_loss: 3.3454 - val_accuracy: 0.2956\n",
      "Epoch 8/100\n",
      "23/23 [==============================] - 0s 21ms/step - loss: 3.0220 - accuracy: 0.3251 - val_loss: 3.2250 - val_accuracy: 0.3119\n",
      "Epoch 9/100\n",
      "23/23 [==============================] - 1s 24ms/step - loss: 2.9113 - accuracy: 0.3407 - val_loss: 3.2453 - val_accuracy: 0.3111\n",
      "Epoch 10/100\n",
      "23/23 [==============================] - 0s 20ms/step - loss: 2.8396 - accuracy: 0.3457 - val_loss: 3.2248 - val_accuracy: 0.3200\n",
      "Epoch 11/100\n",
      "23/23 [==============================] - 0s 21ms/step - loss: 2.7460 - accuracy: 0.3575 - val_loss: 3.0920 - val_accuracy: 0.3217\n",
      "Epoch 12/100\n",
      "23/23 [==============================] - 1s 25ms/step - loss: 2.6709 - accuracy: 0.3706 - val_loss: 3.0824 - val_accuracy: 0.3135\n",
      "Epoch 13/100\n",
      "23/23 [==============================] - 0s 20ms/step - loss: 2.6100 - accuracy: 0.3795 - val_loss: 3.0974 - val_accuracy: 0.3331\n",
      "Epoch 14/100\n",
      "23/23 [==============================] - 0s 21ms/step - loss: 2.5298 - accuracy: 0.3945 - val_loss: 3.0074 - val_accuracy: 0.3388\n",
      "Epoch 15/100\n",
      "23/23 [==============================] - 1s 24ms/step - loss: 2.4643 - accuracy: 0.4047 - val_loss: 2.9844 - val_accuracy: 0.3436\n",
      "Epoch 16/100\n",
      "23/23 [==============================] - 0s 20ms/step - loss: 2.3783 - accuracy: 0.4193 - val_loss: 3.0206 - val_accuracy: 0.3445\n",
      "Epoch 17/100\n",
      "23/23 [==============================] - 0s 20ms/step - loss: 2.3049 - accuracy: 0.4322 - val_loss: 2.9466 - val_accuracy: 0.3575\n",
      "Epoch 18/100\n",
      "23/23 [==============================] - 1s 23ms/step - loss: 2.2295 - accuracy: 0.4487 - val_loss: 2.9362 - val_accuracy: 0.3648\n",
      "Epoch 19/100\n",
      "23/23 [==============================] - 0s 21ms/step - loss: 2.1355 - accuracy: 0.4660 - val_loss: 2.8849 - val_accuracy: 0.3599\n",
      "Epoch 20/100\n",
      "23/23 [==============================] - 0s 20ms/step - loss: 2.0511 - accuracy: 0.4803 - val_loss: 2.9393 - val_accuracy: 0.3640\n",
      "Epoch 21/100\n",
      "23/23 [==============================] - 1s 25ms/step - loss: 1.9651 - accuracy: 0.5017 - val_loss: 2.9228 - val_accuracy: 0.3770\n",
      "Epoch 22/100\n",
      "23/23 [==============================] - 0s 20ms/step - loss: 1.8585 - accuracy: 0.5265 - val_loss: 2.8914 - val_accuracy: 0.3884\n",
      "Epoch 23/100\n",
      "23/23 [==============================] - 0s 21ms/step - loss: 1.7961 - accuracy: 0.5374 - val_loss: 2.8964 - val_accuracy: 0.3958\n",
      "Epoch 24/100\n",
      "23/23 [==============================] - 1s 29ms/step - loss: 1.6807 - accuracy: 0.5622 - val_loss: 2.8951 - val_accuracy: 0.4055\n",
      "Epoch 25/100\n",
      "23/23 [==============================] - 0s 22ms/step - loss: 1.6087 - accuracy: 0.5791 - val_loss: 2.9280 - val_accuracy: 0.4047\n",
      "Epoch 26/100\n",
      "23/23 [==============================] - 0s 20ms/step - loss: 1.4642 - accuracy: 0.6144 - val_loss: 2.9629 - val_accuracy: 0.3974\n",
      "Epoch 27/100\n",
      "23/23 [==============================] - 1s 23ms/step - loss: 1.3917 - accuracy: 0.6302 - val_loss: 2.9667 - val_accuracy: 0.4169\n",
      "Epoch 28/100\n",
      "23/23 [==============================] - 0s 21ms/step - loss: 1.2891 - accuracy: 0.6569 - val_loss: 3.0268 - val_accuracy: 0.4153\n",
      "Epoch 29/100\n",
      "23/23 [==============================] - 0s 21ms/step - loss: 1.1906 - accuracy: 0.6793 - val_loss: 3.0415 - val_accuracy: 0.4259\n",
      "Epoch 30/100\n",
      "23/23 [==============================] - 1s 24ms/step - loss: 1.0887 - accuracy: 0.7080 - val_loss: 3.0412 - val_accuracy: 0.4169\n",
      "Epoch 31/100\n",
      "23/23 [==============================] - 0s 21ms/step - loss: 1.0141 - accuracy: 0.7255 - val_loss: 3.1149 - val_accuracy: 0.4235\n",
      "Epoch 32/100\n",
      "23/23 [==============================] - 0s 20ms/step - loss: 0.9232 - accuracy: 0.7504 - val_loss: 3.1392 - val_accuracy: 0.4137\n",
      "Epoch 33/100\n",
      "23/23 [==============================] - 0s 21ms/step - loss: 0.8118 - accuracy: 0.7783 - val_loss: 3.1473 - val_accuracy: 0.4340\n",
      "Epoch 34/100\n",
      "23/23 [==============================] - 0s 21ms/step - loss: 0.7574 - accuracy: 0.7898 - val_loss: 3.2356 - val_accuracy: 0.4267\n",
      "Epoch 35/100\n",
      "23/23 [==============================] - 1s 23ms/step - loss: 0.6617 - accuracy: 0.8183 - val_loss: 3.2747 - val_accuracy: 0.4316\n",
      "Epoch 36/100\n",
      "23/23 [==============================] - 0s 20ms/step - loss: 0.6310 - accuracy: 0.8265 - val_loss: 3.3351 - val_accuracy: 0.4373\n",
      "Epoch 37/100\n",
      "23/23 [==============================] - 0s 20ms/step - loss: 0.5566 - accuracy: 0.8472 - val_loss: 3.3859 - val_accuracy: 0.4324\n",
      "Epoch 38/100\n",
      "23/23 [==============================] - 1s 23ms/step - loss: 0.4769 - accuracy: 0.8699 - val_loss: 3.4272 - val_accuracy: 0.4283\n",
      "Epoch 39/100\n",
      "23/23 [==============================] - 0s 21ms/step - loss: 0.4445 - accuracy: 0.8798 - val_loss: 3.4757 - val_accuracy: 0.4454\n",
      "Epoch 40/100\n",
      "23/23 [==============================] - 0s 19ms/step - loss: 0.3955 - accuracy: 0.8925 - val_loss: 3.5336 - val_accuracy: 0.4292\n",
      "Epoch 41/100\n",
      "23/23 [==============================] - 1s 23ms/step - loss: 0.3527 - accuracy: 0.9047 - val_loss: 3.5205 - val_accuracy: 0.4389\n",
      "Epoch 42/100\n",
      "23/23 [==============================] - 1s 22ms/step - loss: 0.3362 - accuracy: 0.9081 - val_loss: 3.6622 - val_accuracy: 0.4332\n",
      "Epoch 43/100\n",
      "23/23 [==============================] - 1s 22ms/step - loss: 0.3422 - accuracy: 0.9060 - val_loss: 3.6460 - val_accuracy: 0.4430\n",
      "Epoch 44/100\n",
      "23/23 [==============================] - 1s 23ms/step - loss: 0.2685 - accuracy: 0.9253 - val_loss: 3.7569 - val_accuracy: 0.4300\n",
      "Epoch 45/100\n",
      "23/23 [==============================] - 0s 20ms/step - loss: 0.2509 - accuracy: 0.9306 - val_loss: 3.8573 - val_accuracy: 0.4251\n",
      "Epoch 46/100\n",
      "23/23 [==============================] - 1s 22ms/step - loss: 0.2338 - accuracy: 0.9372 - val_loss: 3.8833 - val_accuracy: 0.4381\n",
      "Epoch 47/100\n",
      "23/23 [==============================] - 1s 24ms/step - loss: 0.2231 - accuracy: 0.9386 - val_loss: 3.8998 - val_accuracy: 0.4397\n",
      "Epoch 48/100\n",
      "23/23 [==============================] - 0s 21ms/step - loss: 0.2155 - accuracy: 0.9408 - val_loss: 3.9011 - val_accuracy: 0.4438\n",
      "Epoch 49/100\n",
      "23/23 [==============================] - 0s 20ms/step - loss: 0.1991 - accuracy: 0.9461 - val_loss: 3.9741 - val_accuracy: 0.4422\n",
      "Epoch 50/100\n",
      "23/23 [==============================] - 1s 23ms/step - loss: 0.1889 - accuracy: 0.9498 - val_loss: 4.0333 - val_accuracy: 0.4316\n",
      "Epoch 51/100\n",
      "23/23 [==============================] - 0s 21ms/step - loss: 0.1833 - accuracy: 0.9500 - val_loss: 4.0515 - val_accuracy: 0.4349\n",
      "Epoch 52/100\n",
      "23/23 [==============================] - 0s 20ms/step - loss: 0.1658 - accuracy: 0.9549 - val_loss: 4.0739 - val_accuracy: 0.4340\n",
      "Epoch 53/100\n",
      "23/23 [==============================] - 1s 25ms/step - loss: 0.1594 - accuracy: 0.9573 - val_loss: 4.1424 - val_accuracy: 0.4332\n",
      "Epoch 54/100\n",
      "23/23 [==============================] - 0s 21ms/step - loss: 0.1616 - accuracy: 0.9560 - val_loss: 4.1376 - val_accuracy: 0.4454\n",
      "Epoch 55/100\n",
      "23/23 [==============================] - 0s 21ms/step - loss: 0.1418 - accuracy: 0.9612 - val_loss: 4.1774 - val_accuracy: 0.4389\n",
      "Epoch 56/100\n",
      "23/23 [==============================] - 1s 23ms/step - loss: 0.1401 - accuracy: 0.9647 - val_loss: 4.1605 - val_accuracy: 0.4446\n",
      "Epoch 57/100\n",
      "23/23 [==============================] - 0s 20ms/step - loss: 0.1364 - accuracy: 0.9643 - val_loss: 4.2501 - val_accuracy: 0.4275\n",
      "Epoch 58/100\n",
      "23/23 [==============================] - 0s 21ms/step - loss: 0.1316 - accuracy: 0.9652 - val_loss: 4.2439 - val_accuracy: 0.4536\n",
      "Epoch 59/100\n",
      "23/23 [==============================] - 1s 23ms/step - loss: 0.1282 - accuracy: 0.9654 - val_loss: 4.2698 - val_accuracy: 0.4463\n",
      "Epoch 60/100\n",
      "23/23 [==============================] - 0s 20ms/step - loss: 0.1233 - accuracy: 0.9675 - val_loss: 4.3258 - val_accuracy: 0.4414\n",
      "Epoch 61/100\n",
      "23/23 [==============================] - 0s 20ms/step - loss: 0.1196 - accuracy: 0.9679 - val_loss: 4.3740 - val_accuracy: 0.4454\n",
      "Epoch 62/100\n",
      "23/23 [==============================] - 1s 22ms/step - loss: 0.1154 - accuracy: 0.9695 - val_loss: 4.3361 - val_accuracy: 0.4389\n",
      "Epoch 63/100\n",
      "23/23 [==============================] - 0s 21ms/step - loss: 0.1115 - accuracy: 0.9700 - val_loss: 4.4678 - val_accuracy: 0.4365\n",
      "Epoch 64/100\n",
      "23/23 [==============================] - 0s 20ms/step - loss: 0.1155 - accuracy: 0.9684 - val_loss: 4.4577 - val_accuracy: 0.4324\n",
      "Epoch 65/100\n",
      "23/23 [==============================] - 1s 23ms/step - loss: 0.1036 - accuracy: 0.9726 - val_loss: 4.4356 - val_accuracy: 0.4349\n",
      "Epoch 66/100\n",
      "23/23 [==============================] - 0s 21ms/step - loss: 0.1136 - accuracy: 0.9692 - val_loss: 4.4343 - val_accuracy: 0.4340\n",
      "Epoch 67/100\n",
      "23/23 [==============================] - 0s 21ms/step - loss: 0.0921 - accuracy: 0.9760 - val_loss: 4.4924 - val_accuracy: 0.4243\n",
      "Epoch 68/100\n",
      "23/23 [==============================] - 1s 25ms/step - loss: 0.1068 - accuracy: 0.9703 - val_loss: 4.5033 - val_accuracy: 0.4438\n",
      "Epoch 69/100\n",
      "23/23 [==============================] - 0s 21ms/step - loss: 0.0934 - accuracy: 0.9755 - val_loss: 4.5548 - val_accuracy: 0.4389\n",
      "Epoch 70/100\n",
      "23/23 [==============================] - 0s 21ms/step - loss: 0.0907 - accuracy: 0.9762 - val_loss: 4.4792 - val_accuracy: 0.4332\n",
      "Epoch 71/100\n",
      "23/23 [==============================] - 1s 24ms/step - loss: 0.0843 - accuracy: 0.9789 - val_loss: 4.5505 - val_accuracy: 0.4414\n",
      "Epoch 72/100\n",
      "23/23 [==============================] - 0s 20ms/step - loss: 0.0963 - accuracy: 0.9757 - val_loss: 4.5601 - val_accuracy: 0.4357\n",
      "Epoch 73/100\n",
      "23/23 [==============================] - 0s 21ms/step - loss: 0.0932 - accuracy: 0.9745 - val_loss: 4.6776 - val_accuracy: 0.4316\n",
      "Epoch 74/100\n",
      "23/23 [==============================] - 0s 20ms/step - loss: 0.0986 - accuracy: 0.9733 - val_loss: 4.5429 - val_accuracy: 0.4324\n",
      "Epoch 75/100\n",
      "23/23 [==============================] - 0s 20ms/step - loss: 0.0865 - accuracy: 0.9772 - val_loss: 4.5644 - val_accuracy: 0.4389\n",
      "Epoch 76/100\n",
      "23/23 [==============================] - 1s 22ms/step - loss: 0.0760 - accuracy: 0.9817 - val_loss: 4.5976 - val_accuracy: 0.4406\n",
      "Epoch 77/100\n",
      "23/23 [==============================] - 0s 20ms/step - loss: 0.0812 - accuracy: 0.9795 - val_loss: 4.6826 - val_accuracy: 0.4397\n",
      "Epoch 78/100\n",
      "23/23 [==============================] - 0s 21ms/step - loss: 0.0825 - accuracy: 0.9785 - val_loss: 4.6726 - val_accuracy: 0.4544\n",
      "Epoch 79/100\n",
      "23/23 [==============================] - 1s 25ms/step - loss: 0.0804 - accuracy: 0.9801 - val_loss: 4.7449 - val_accuracy: 0.4454\n",
      "Epoch 80/100\n",
      "23/23 [==============================] - 0s 21ms/step - loss: 0.0756 - accuracy: 0.9796 - val_loss: 4.8342 - val_accuracy: 0.4389\n",
      "Epoch 81/100\n",
      "23/23 [==============================] - 0s 21ms/step - loss: 0.0810 - accuracy: 0.9773 - val_loss: 4.7415 - val_accuracy: 0.4332\n",
      "Epoch 82/100\n",
      "23/23 [==============================] - 1s 24ms/step - loss: 0.0691 - accuracy: 0.9818 - val_loss: 4.7434 - val_accuracy: 0.4308\n",
      "Epoch 83/100\n",
      "23/23 [==============================] - 0s 21ms/step - loss: 0.0698 - accuracy: 0.9819 - val_loss: 4.8233 - val_accuracy: 0.4430\n",
      "Epoch 84/100\n",
      "23/23 [==============================] - 0s 21ms/step - loss: 0.0779 - accuracy: 0.9788 - val_loss: 4.7662 - val_accuracy: 0.4349\n",
      "Epoch 85/100\n",
      "23/23 [==============================] - 1s 24ms/step - loss: 0.0780 - accuracy: 0.9792 - val_loss: 4.8281 - val_accuracy: 0.4349\n",
      "Epoch 86/100\n",
      "23/23 [==============================] - 0s 20ms/step - loss: 0.0723 - accuracy: 0.9808 - val_loss: 4.7724 - val_accuracy: 0.4471\n",
      "Epoch 87/100\n",
      "23/23 [==============================] - 0s 21ms/step - loss: 0.0709 - accuracy: 0.9810 - val_loss: 4.8149 - val_accuracy: 0.4430\n",
      "Epoch 88/100\n",
      "23/23 [==============================] - 1s 23ms/step - loss: 0.0728 - accuracy: 0.9800 - val_loss: 4.7687 - val_accuracy: 0.4487\n",
      "Epoch 89/100\n",
      "23/23 [==============================] - 0s 21ms/step - loss: 0.0648 - accuracy: 0.9834 - val_loss: 4.8348 - val_accuracy: 0.4267\n",
      "Epoch 90/100\n",
      "23/23 [==============================] - 0s 21ms/step - loss: 0.0703 - accuracy: 0.9818 - val_loss: 4.8870 - val_accuracy: 0.4389\n",
      "Epoch 91/100\n",
      "23/23 [==============================] - 1s 24ms/step - loss: 0.0675 - accuracy: 0.9815 - val_loss: 4.8855 - val_accuracy: 0.4365\n",
      "Epoch 92/100\n",
      "23/23 [==============================] - 0s 21ms/step - loss: 0.0644 - accuracy: 0.9830 - val_loss: 4.8516 - val_accuracy: 0.4430\n",
      "Epoch 93/100\n",
      "23/23 [==============================] - 0s 20ms/step - loss: 0.0672 - accuracy: 0.9820 - val_loss: 4.8644 - val_accuracy: 0.4422\n",
      "Epoch 94/100\n",
      "23/23 [==============================] - 1s 23ms/step - loss: 0.0683 - accuracy: 0.9816 - val_loss: 4.8650 - val_accuracy: 0.4397\n",
      "Epoch 95/100\n",
      "23/23 [==============================] - 0s 22ms/step - loss: 0.0673 - accuracy: 0.9826 - val_loss: 4.8566 - val_accuracy: 0.4300\n",
      "Epoch 96/100\n",
      "23/23 [==============================] - 0s 21ms/step - loss: 0.0629 - accuracy: 0.9832 - val_loss: 4.8677 - val_accuracy: 0.4422\n",
      "Epoch 97/100\n",
      "23/23 [==============================] - 0s 21ms/step - loss: 0.0682 - accuracy: 0.9816 - val_loss: 4.8726 - val_accuracy: 0.4463\n",
      "Epoch 98/100\n",
      "23/23 [==============================] - 0s 20ms/step - loss: 0.0583 - accuracy: 0.9837 - val_loss: 4.7683 - val_accuracy: 0.4430\n",
      "Epoch 99/100\n",
      "23/23 [==============================] - 1s 23ms/step - loss: 0.0597 - accuracy: 0.9852 - val_loss: 4.7806 - val_accuracy: 0.4389\n",
      "Epoch 100/100\n",
      "23/23 [==============================] - 0s 21ms/step - loss: 0.0567 - accuracy: 0.9854 - val_loss: 4.9264 - val_accuracy: 0.4397\n"
     ]
    }
   ],
   "source": [
    "eng_nep_history = eng_nep_translator.fit(\n",
    "    eng_nep_train_ds, \n",
    "    epochs=100, \n",
    "    validation_data=eng_nep_val_ds\n",
    "    )"
   ]
  },
  {
   "cell_type": "markdown",
   "metadata": {},
   "source": [
    "To avoid training and retraining the model, I'll now save this model with these results."
   ]
  },
  {
   "cell_type": "code",
   "execution_count": 16,
   "metadata": {},
   "outputs": [],
   "source": [
    "#eng_nep_translator.save('models/eng-nep-translator.keras')"
   ]
  },
  {
   "cell_type": "markdown",
   "metadata": {},
   "source": [
    "Now, for future testing, I can reopen the model."
   ]
  },
  {
   "cell_type": "code",
   "execution_count": 17,
   "metadata": {},
   "outputs": [],
   "source": [
    "eng_nep_translator = tf.keras.models.load_model('models/eng-nep-translator.keras')"
   ]
  },
  {
   "cell_type": "markdown",
   "metadata": {},
   "source": [
    "### Visualizing the Training Results\n",
    "\n",
    "Below, we can see how the loss and accuracy evolved over the course of training. Here we can really see how difficult it is to make effective generative tools from small datasets. Even as the model's accuracy improves substantially on the training set, the accuracy on the validation data remains unacceptably low.\n",
    "\n",
    "The loss on the validation data also never decreases, instead getting worse as time goes on."
   ]
  },
  {
   "cell_type": "code",
   "execution_count": 127,
   "metadata": {},
   "outputs": [
    {
     "data": {
      "image/png": "[encoded data removed]",
      "text/plain": [
       "<Figure size 800x800 with 2 Axes>"
      ]
     },
     "metadata": {},
     "output_type": "display_data"
    }
   ],
   "source": [
    "acc = eng_nep_history.history['accuracy']\n",
    "val_acc = eng_nep_history.history['val_accuracy']\n",
    "\n",
    "loss = eng_nep_history.history['loss']\n",
    "val_loss = eng_nep_history.history['val_loss']\n",
    "\n",
    "epochs_range = range(100)\n",
    "\n",
    "plt.figure(figsize=(8, 8))\n",
    "plt.subplot(1, 2, 1)\n",
    "plt.plot(epochs_range, acc, label='Training Accuracy')\n",
    "plt.plot(epochs_range, val_acc, label='Validation Accuracy')\n",
    "plt.legend(loc='lower right')\n",
    "plt.title('Training and Validation Accuracy')\n",
    "\n",
    "plt.subplot(1, 2, 2)\n",
    "plt.plot(epochs_range, loss, label='Training Loss')\n",
    "plt.plot(epochs_range, val_loss, label='Validation Loss')\n",
    "plt.legend(loc='upper right')\n",
    "plt.title('Training and Validation Loss')\n",
    "plt.show()"
   ]
  },
  {
   "cell_type": "markdown",
   "metadata": {},
   "source": [
    "### Decoding Translated Sentences\n",
    "\n",
    "Even if the translations are perfect, the outputs of our model are not meaningful sentences. The model only outputs numerical tokens. In order to turn these into something that a human can read they need to be decoded.\n",
    "\n",
    "Below is a function to decode these translated sentences. This function takes in an English sentence, runs it through our translator model then works its way through the output of the model, converting the output into words in Nepali using our tokenizers.\n",
    "\n",
    "Part of decoding the sequence is sampling the probabilities of tokens that should follow the existing translation. The sampler is the algorithm that is used to select that next work or token. Here I've used the Greedy sampler which simply finds the highest likelihood next word and adds it to the translated sentence. It is computationally inexpensive and because the outputs are pretty short we don't need to worry about the Greedy sampler outputting long, repetitive sentences that don't make much sense, which can be an issue with the algorithm.\n"
   ]
  },
  {
   "cell_type": "code",
   "execution_count": 129,
   "metadata": {},
   "outputs": [],
   "source": [
    "def eng_nep_translate(input_sentences):\n",
    "    batch_size = tf.shape(input_sentences)[0]\n",
    "\n",
    "    encoder_input_tokens = eng_tokenizer(input_sentences).to_tensor(\n",
    "        shape=(None, MAX_SEQUENCE_LENGTH)\n",
    "    )\n",
    "\n",
    "    def next(prompt, cache, index):\n",
    "        logits = eng_nep_translator([encoder_input_tokens, prompt])[:, index - 1, :]\n",
    "        hidden_states = None\n",
    "        return logits, hidden_states, cache\n",
    "    \n",
    "    length = 40\n",
    "    start = tf.fill((batch_size, 1), nep_tokenizer.token_to_id(\"[START]\"))\n",
    "    pad = tf.fill((batch_size, length - 1), nep_tokenizer.token_to_id(\"[PAD]\"))\n",
    "    prompt = tf.concat((start, pad), axis=-1)\n",
    "\n",
    "    generated_tokens = keras_nlp.samplers.GreedySampler()(\n",
    "        next,\n",
    "        prompt,\n",
    "        end_token_id=nep_tokenizer.token_to_id(\"[END]\"),\n",
    "        index=1\n",
    "    )\n",
    "    generated_sentences = nep_tokenizer.detokenize(generated_tokens)\n",
    "    return generated_sentences"
   ]
  },
  {
   "cell_type": "markdown",
   "metadata": {},
   "source": [
    "### Example Translations\n",
    "\n",
    "Now, let's look at some example translations from the model."
   ]
  },
  {
   "cell_type": "code",
   "execution_count": 20,
   "metadata": {},
   "outputs": [
    {
     "name": "stderr",
     "output_type": "stream",
     "text": [
      "2023-08-18 10:59:35.830764: I tensorflow/compiler/xla/stream_executor/cuda/cuda_blas.cc:606] TensorFloat-32 will be used for the matrix multiplication. This will only be logged once.\n",
      "2023-08-18 10:59:36.980078: I tensorflow/compiler/xla/service/service.cc:168] XLA service 0x1051b930 initialized for platform CUDA (this does not guarantee that XLA will be used). Devices:\n",
      "2023-08-18 10:59:36.980152: I tensorflow/compiler/xla/service/service.cc:176]   StreamExecutor device (0): NVIDIA GeForce RTX 4070, Compute Capability 8.9\n",
      "2023-08-18 10:59:38.690555: I tensorflow/compiler/xla/stream_executor/cuda/cuda_dnn.cc:432] Loaded cuDNN version 8904\n",
      "2023-08-18 10:59:40.544634: I tensorflow/tsl/platform/default/subprocess.cc:304] Start cannot spawn child process: No such file or directory\n",
      "2023-08-18 10:59:41.517654: I ./tensorflow/compiler/jit/device_compiler.h:186] Compiled cluster using XLA!  This line is logged at most once for the lifetime of the process.\n"
     ]
    },
    {
     "name": "stdout",
     "output_type": "stream",
     "text": [
      "** Example 0 **\n",
      "i didn't want to go, but i did.\n",
      "ी ठ चाहन्छुौं एक अहिलेला ,ब छिन्ौं ड हुँ हुनुहुन्छान थाहाको\n",
      "\n",
      "** Example 1 **\n",
      "i know that tom is in bed.\n",
      "मैलेु दहरूे ौलाई काम थाहाको\n",
      "\n",
      "** Example 2 **\n",
      "you won't see me again.\n",
      "ह मैले ी ा अहिले टमलाई छिन्ो ्ईस थाहा , मैलेलेको\n",
      "\n",
      "** Example 3 **\n",
      "when was the last time you cried?\n",
      "गर्न0 हामी ढसदैनिएको किस हुँै ?\n",
      "\n",
      "** Example 4 **\n",
      "i'm pretty sure tom's happy in boston.\n",
      "मैले ु चाहन्छुरही ढससँगससँगिएको कि थ  एक ठदैन तपाईं दको\n",
      "\n"
     ]
    }
   ],
   "source": [
    "test_eng_texts = [pair[0] for pair in test_pairs]\n",
    "for i in range(5):\n",
    "    input_sentence = random.choice(test_eng_texts)\n",
    "    translated = eng_nep_translate(tf.constant([input_sentence]))\n",
    "    translated = translated.numpy()[0].decode(\"utf-8\")\n",
    "    translated = (\n",
    "        translated.replace(\"[PAD]\", \"\")\n",
    "        .replace(\"[START]\", \"\")\n",
    "        .replace(\"[END]\", \"\")\n",
    "        .strip()\n",
    "    )\n",
    "\n",
    "    print(f\"** Example {i} **\")\n",
    "    print(input_sentence)\n",
    "    print(translated)\n",
    "    print()"
   ]
  },
  {
   "cell_type": "markdown",
   "metadata": {},
   "source": [
    "## Nepali to English Translation\n",
    "\n",
    "Now that the English to Nepali Translator is finished, it's time to reverse the process. \n",
    "\n",
    "There's no need to repeat the setup stages nor the importing and preprocessing of data, since it can all be reused from the first translator. We can simply refactor our preprocess_batch function to reverse which language is the input and which language is the output."
   ]
  },
  {
   "cell_type": "code",
   "execution_count": 110,
   "metadata": {},
   "outputs": [],
   "source": [
    "def nep_eng_preprocess_batch(eng, nep):\n",
    "\n",
    "    eng = eng_tokenizer(eng)\n",
    "    nep = nep_tokenizer(nep)\n",
    "\n",
    "    # pad eng to max_sequence_length\n",
    "    eng_start_end_packer = keras_nlp.layers.StartEndPacker(\n",
    "        sequence_length=MAX_SEQUENCE_LENGTH+1,\n",
    "        pad_value = eng_tokenizer.token_to_id(\"[PAD]\"),\n",
    "    )\n",
    "\n",
    "    eng = eng_start_end_packer(eng)\n",
    "\n",
    "    # add special tokens [start] and [end] and pad nep\n",
    "    nep_start_end_packer = keras_nlp.layers.StartEndPacker(\n",
    "        sequence_length = MAX_SEQUENCE_LENGTH,\n",
    "        start_value = nep_tokenizer.token_to_id(\"[START]\"),\n",
    "        end_value = nep_tokenizer.token_to_id(\"[END]\"),\n",
    "        pad_value = nep_tokenizer.token_to_id(\"[PAD]\")\n",
    "    )\n",
    "\n",
    "    nep = nep_start_end_packer(nep)\n",
    "\n",
    "    return (\n",
    "        {\n",
    "        \"encoder_inputs\": nep,\n",
    "        \"decoder_inputs\": eng[:, :-1]\n",
    "        },\n",
    "        eng[:, 1:],\n",
    "    )\n",
    "\n",
    "def make_dataset(pairs):\n",
    "    eng_texts, nep_texts = zip(*pairs)\n",
    "    eng_texts = list(eng_texts)\n",
    "    nep_texts = list(nep_texts)\n",
    "    dataset = tf.data.Dataset.from_tensor_slices((nep_texts, eng_texts))\n",
    "    dataset=dataset.batch(BATCH_SIZE)\n",
    "    dataset = dataset.map(nep_eng_preprocess_batch, num_parallel_calls=AUTOTUNE)\n",
    "    return dataset.shuffle(2048).prefetch(16).cache()\n",
    "\n",
    "nep_eng_train_ds = make_dataset(train_pairs)\n",
    "nep_eng_val_ds = make_dataset(val_pairs)"
   ]
  },
  {
   "cell_type": "markdown",
   "metadata": {},
   "source": [
    "### Creating the Model\n",
    "\n",
    "We can reuse the same model architecture from above."
   ]
  },
  {
   "cell_type": "code",
   "execution_count": 111,
   "metadata": {},
   "outputs": [],
   "source": [
    "nep_eng_translator = keras.Model(\n",
    "    [encoder_inputs, decoder_inputs],\n",
    "    decoder_outputs,\n",
    "    name=\"nep_eng_translator\",\n",
    ")"
   ]
  },
  {
   "cell_type": "markdown",
   "metadata": {},
   "source": [
    "#### Model Summary"
   ]
  },
  {
   "cell_type": "code",
   "execution_count": 105,
   "metadata": {},
   "outputs": [
    {
     "name": "stdout",
     "output_type": "stream",
     "text": [
      "Model: \"nep_eng_translator\"\n",
      "__________________________________________________________________________________________________\n",
      " Layer (type)                Output Shape                 Param #   Connected to                  \n",
      "==================================================================================================\n",
      " encoder_inputs (InputLayer  [(None, None)]               0         []                            \n",
      " )                                                                                                \n",
      "                                                                                                  \n",
      " token_and_position_embeddi  (None, None, 256)            3850240   ['encoder_inputs[0][0]']      \n",
      " ng (TokenAndPositionEmbedd                                                                       \n",
      " ing)                                                                                             \n",
      "                                                                                                  \n",
      " decoder_inputs (InputLayer  [(None, None)]               0         []                            \n",
      " )                                                                                                \n",
      "                                                                                                  \n",
      " transformer_encoder (Trans  (None, None, 256)            1315072   ['token_and_position_embedding\n",
      " formerEncoder)                                                     [0][0]']                      \n",
      "                                                                                                  \n",
      " model_1 (Functional)        (None, None, 15000)          9283992   ['decoder_inputs[0][0]',      \n",
      "                                                                     'transformer_encoder[0][0]'] \n",
      "                                                                                                  \n",
      "==================================================================================================\n",
      "Total params: 14449304 (55.12 MB)\n",
      "Trainable params: 14449304 (55.12 MB)\n",
      "Non-trainable params: 0 (0.00 Byte)\n",
      "__________________________________________________________________________________________________\n"
     ]
    }
   ],
   "source": [
    "nep_eng_translator.summary()"
   ]
  },
  {
   "cell_type": "markdown",
   "metadata": {},
   "source": [
    "### Compilation\n",
    "\n",
    "Here I've used the same loss and optimization algorithms as the other translator."
   ]
  },
  {
   "cell_type": "code",
   "execution_count": 112,
   "metadata": {},
   "outputs": [],
   "source": [
    "nep_eng_translator.compile(\n",
    "    \"rmsprop\", \n",
    "    loss=\"sparse_categorical_crossentropy\", \n",
    "    metrics=[\"accuracy\"]\n",
    ")"
   ]
  },
  {
   "cell_type": "markdown",
   "metadata": {},
   "source": [
    "### Fitting the Model"
   ]
  },
  {
   "cell_type": "code",
   "execution_count": 113,
   "metadata": {},
   "outputs": [
    {
     "name": "stdout",
     "output_type": "stream",
     "text": [
      "Epoch 1/100\n",
      "23/23 [==============================] - 12s 140ms/step - loss: 1.8171 - accuracy: 0.7730 - val_loss: 0.6445 - val_accuracy: 0.7848\n",
      "Epoch 2/100\n",
      "23/23 [==============================] - 1s 24ms/step - loss: 0.5696 - accuracy: 0.8187 - val_loss: 0.5252 - val_accuracy: 0.8135\n",
      "Epoch 3/100\n",
      "23/23 [==============================] - 1s 22ms/step - loss: 0.4751 - accuracy: 0.8355 - val_loss: 0.4863 - val_accuracy: 0.8463\n",
      "Epoch 4/100\n",
      "23/23 [==============================] - 0s 21ms/step - loss: 0.4529 - accuracy: 0.8464 - val_loss: 0.4911 - val_accuracy: 0.8135\n",
      "Epoch 5/100\n",
      "23/23 [==============================] - 1s 23ms/step - loss: 0.4292 - accuracy: 0.8491 - val_loss: 0.4543 - val_accuracy: 0.8484\n",
      "Epoch 6/100\n",
      "23/23 [==============================] - 0s 20ms/step - loss: 0.4058 - accuracy: 0.8572 - val_loss: 0.4350 - val_accuracy: 0.8525\n",
      "Epoch 7/100\n",
      "23/23 [==============================] - 0s 21ms/step - loss: 0.3929 - accuracy: 0.8598 - val_loss: 0.3791 - val_accuracy: 0.8607\n",
      "Epoch 8/100\n",
      "23/23 [==============================] - 1s 26ms/step - loss: 0.3552 - accuracy: 0.8600 - val_loss: 0.3576 - val_accuracy: 0.8689\n",
      "Epoch 9/100\n",
      "23/23 [==============================] - 0s 20ms/step - loss: 0.3352 - accuracy: 0.8639 - val_loss: 0.3597 - val_accuracy: 0.8709\n",
      "Epoch 10/100\n",
      "23/23 [==============================] - 1s 24ms/step - loss: 0.3233 - accuracy: 0.8699 - val_loss: 0.3577 - val_accuracy: 0.8668\n",
      "Epoch 11/100\n",
      "23/23 [==============================] - 0s 21ms/step - loss: 0.3192 - accuracy: 0.8716 - val_loss: 0.3513 - val_accuracy: 0.8586\n",
      "Epoch 12/100\n",
      "23/23 [==============================] - 0s 20ms/step - loss: 0.3083 - accuracy: 0.8706 - val_loss: 0.3578 - val_accuracy: 0.8709\n",
      "Epoch 13/100\n",
      "23/23 [==============================] - 0s 20ms/step - loss: 0.2982 - accuracy: 0.8702 - val_loss: 0.3527 - val_accuracy: 0.8709\n",
      "Epoch 14/100\n",
      "23/23 [==============================] - 1s 23ms/step - loss: 0.2976 - accuracy: 0.8712 - val_loss: 0.3507 - val_accuracy: 0.8668\n",
      "Epoch 15/100\n",
      "23/23 [==============================] - 0s 21ms/step - loss: 0.2925 - accuracy: 0.8716 - val_loss: 0.3481 - val_accuracy: 0.8566\n",
      "Epoch 16/100\n",
      "23/23 [==============================] - 1s 22ms/step - loss: 0.2849 - accuracy: 0.8758 - val_loss: 0.3461 - val_accuracy: 0.8566\n",
      "Epoch 17/100\n",
      "23/23 [==============================] - 1s 24ms/step - loss: 0.2833 - accuracy: 0.8780 - val_loss: 0.3553 - val_accuracy: 0.8463\n",
      "Epoch 18/100\n",
      "23/23 [==============================] - 0s 21ms/step - loss: 0.2785 - accuracy: 0.8763 - val_loss: 0.3430 - val_accuracy: 0.8607\n",
      "Epoch 19/100\n",
      "23/23 [==============================] - 1s 22ms/step - loss: 0.2761 - accuracy: 0.8756 - val_loss: 0.3332 - val_accuracy: 0.8730\n",
      "Epoch 20/100\n",
      "23/23 [==============================] - 1s 23ms/step - loss: 0.2760 - accuracy: 0.8749 - val_loss: 0.3532 - val_accuracy: 0.8607\n",
      "Epoch 21/100\n",
      "23/23 [==============================] - 0s 21ms/step - loss: 0.2706 - accuracy: 0.8786 - val_loss: 0.3422 - val_accuracy: 0.8730\n",
      "Epoch 22/100\n",
      "23/23 [==============================] - 1s 24ms/step - loss: 0.2705 - accuracy: 0.8773 - val_loss: 0.3471 - val_accuracy: 0.8689\n",
      "Epoch 23/100\n",
      "23/23 [==============================] - 0s 21ms/step - loss: 0.2681 - accuracy: 0.8790 - val_loss: 0.3649 - val_accuracy: 0.8566\n",
      "Epoch 24/100\n",
      "23/23 [==============================] - 0s 21ms/step - loss: 0.2703 - accuracy: 0.8772 - val_loss: 0.3464 - val_accuracy: 0.8668\n",
      "Epoch 25/100\n",
      "23/23 [==============================] - 1s 23ms/step - loss: 0.2663 - accuracy: 0.8780 - val_loss: 0.3523 - val_accuracy: 0.8627\n",
      "Epoch 26/100\n",
      "23/23 [==============================] - 0s 20ms/step - loss: 0.2671 - accuracy: 0.8775 - val_loss: 0.3432 - val_accuracy: 0.8730\n",
      "Epoch 27/100\n",
      "23/23 [==============================] - 1s 24ms/step - loss: 0.2639 - accuracy: 0.8801 - val_loss: 0.3502 - val_accuracy: 0.8689\n",
      "Epoch 28/100\n",
      "23/23 [==============================] - 0s 21ms/step - loss: 0.2625 - accuracy: 0.8791 - val_loss: 0.3513 - val_accuracy: 0.8668\n",
      "Epoch 29/100\n",
      "23/23 [==============================] - 1s 24ms/step - loss: 0.2583 - accuracy: 0.8815 - val_loss: 0.3720 - val_accuracy: 0.8648\n",
      "Epoch 30/100\n",
      "23/23 [==============================] - 0s 20ms/step - loss: 0.2596 - accuracy: 0.8781 - val_loss: 0.3625 - val_accuracy: 0.8668\n",
      "Epoch 31/100\n",
      "23/23 [==============================] - 0s 21ms/step - loss: 0.2626 - accuracy: 0.8778 - val_loss: 0.3449 - val_accuracy: 0.8607\n",
      "Epoch 32/100\n",
      "23/23 [==============================] - 1s 24ms/step - loss: 0.2546 - accuracy: 0.8827 - val_loss: 0.3527 - val_accuracy: 0.8648\n",
      "Epoch 33/100\n",
      "23/23 [==============================] - 0s 21ms/step - loss: 0.2533 - accuracy: 0.8825 - val_loss: 0.3646 - val_accuracy: 0.8525\n",
      "Epoch 34/100\n",
      "23/23 [==============================] - 0s 21ms/step - loss: 0.2576 - accuracy: 0.8795 - val_loss: 0.3614 - val_accuracy: 0.8668\n",
      "Epoch 35/100\n",
      "23/23 [==============================] - 1s 25ms/step - loss: 0.2573 - accuracy: 0.8829 - val_loss: 0.3609 - val_accuracy: 0.8648\n",
      "Epoch 36/100\n",
      "23/23 [==============================] - 1s 23ms/step - loss: 0.2550 - accuracy: 0.8852 - val_loss: 0.3523 - val_accuracy: 0.8607\n",
      "Epoch 37/100\n",
      "23/23 [==============================] - 1s 24ms/step - loss: 0.2502 - accuracy: 0.8832 - val_loss: 0.3474 - val_accuracy: 0.8627\n",
      "Epoch 38/100\n",
      "23/23 [==============================] - 0s 21ms/step - loss: 0.2486 - accuracy: 0.8842 - val_loss: 0.3473 - val_accuracy: 0.8668\n",
      "Epoch 39/100\n",
      "23/23 [==============================] - 1s 24ms/step - loss: 0.2467 - accuracy: 0.8834 - val_loss: 0.3717 - val_accuracy: 0.8586\n",
      "Epoch 40/100\n",
      "23/23 [==============================] - 0s 21ms/step - loss: 0.2485 - accuracy: 0.8831 - val_loss: 0.3653 - val_accuracy: 0.8627\n",
      "Epoch 41/100\n",
      "23/23 [==============================] - 0s 20ms/step - loss: 0.2448 - accuracy: 0.8855 - val_loss: 0.3647 - val_accuracy: 0.8627\n",
      "Epoch 42/100\n",
      "23/23 [==============================] - 1s 23ms/step - loss: 0.2445 - accuracy: 0.8860 - val_loss: 0.3688 - val_accuracy: 0.8504\n",
      "Epoch 43/100\n",
      "23/23 [==============================] - 0s 20ms/step - loss: 0.2483 - accuracy: 0.8850 - val_loss: 0.3493 - val_accuracy: 0.8648\n",
      "Epoch 44/100\n",
      "23/23 [==============================] - 0s 20ms/step - loss: 0.2548 - accuracy: 0.8832 - val_loss: 0.3494 - val_accuracy: 0.8545\n",
      "Epoch 45/100\n",
      "23/23 [==============================] - 1s 23ms/step - loss: 0.2465 - accuracy: 0.8837 - val_loss: 0.3739 - val_accuracy: 0.8648\n",
      "Epoch 46/100\n",
      "23/23 [==============================] - 0s 21ms/step - loss: 0.2514 - accuracy: 0.8833 - val_loss: 0.3594 - val_accuracy: 0.8689\n",
      "Epoch 47/100\n",
      "23/23 [==============================] - 0s 22ms/step - loss: 0.2447 - accuracy: 0.8836 - val_loss: 0.3539 - val_accuracy: 0.8648\n",
      "Epoch 48/100\n",
      "23/23 [==============================] - 1s 24ms/step - loss: 0.2423 - accuracy: 0.8863 - val_loss: 0.3625 - val_accuracy: 0.8525\n",
      "Epoch 49/100\n",
      "23/23 [==============================] - 0s 20ms/step - loss: 0.2432 - accuracy: 0.8869 - val_loss: 0.3554 - val_accuracy: 0.8566\n",
      "Epoch 50/100\n",
      "23/23 [==============================] - 0s 20ms/step - loss: 0.2404 - accuracy: 0.8860 - val_loss: 0.3577 - val_accuracy: 0.8586\n",
      "Epoch 51/100\n",
      "23/23 [==============================] - 1s 24ms/step - loss: 0.2410 - accuracy: 0.8858 - val_loss: 0.3585 - val_accuracy: 0.8525\n",
      "Epoch 52/100\n",
      "23/23 [==============================] - 0s 20ms/step - loss: 0.2397 - accuracy: 0.8866 - val_loss: 0.3752 - val_accuracy: 0.8463\n",
      "Epoch 53/100\n",
      "23/23 [==============================] - 1s 23ms/step - loss: 0.2374 - accuracy: 0.8885 - val_loss: 0.3613 - val_accuracy: 0.8607\n",
      "Epoch 54/100\n",
      "23/23 [==============================] - 1s 22ms/step - loss: 0.2359 - accuracy: 0.8877 - val_loss: 0.3611 - val_accuracy: 0.8607\n",
      "Epoch 55/100\n",
      "23/23 [==============================] - 0s 20ms/step - loss: 0.2415 - accuracy: 0.8870 - val_loss: 0.3674 - val_accuracy: 0.8627\n",
      "Epoch 56/100\n",
      "23/23 [==============================] - 1s 23ms/step - loss: 0.2381 - accuracy: 0.8884 - val_loss: 0.3754 - val_accuracy: 0.8443\n",
      "Epoch 57/100\n",
      "23/23 [==============================] - 0s 21ms/step - loss: 0.2351 - accuracy: 0.8898 - val_loss: 0.3750 - val_accuracy: 0.8545\n",
      "Epoch 58/100\n",
      "23/23 [==============================] - 0s 20ms/step - loss: 0.2362 - accuracy: 0.8886 - val_loss: 0.3584 - val_accuracy: 0.8689\n",
      "Epoch 59/100\n",
      "23/23 [==============================] - 1s 23ms/step - loss: 0.2338 - accuracy: 0.8871 - val_loss: 0.3633 - val_accuracy: 0.8545\n",
      "Epoch 60/100\n",
      "23/23 [==============================] - 0s 20ms/step - loss: 0.2367 - accuracy: 0.8881 - val_loss: 0.3700 - val_accuracy: 0.8607\n",
      "Epoch 61/100\n",
      "23/23 [==============================] - 0s 20ms/step - loss: 0.2372 - accuracy: 0.8886 - val_loss: 0.3648 - val_accuracy: 0.8586\n",
      "Epoch 62/100\n",
      "23/23 [==============================] - 1s 23ms/step - loss: 0.2361 - accuracy: 0.8870 - val_loss: 0.3596 - val_accuracy: 0.8422\n",
      "Epoch 63/100\n",
      "23/23 [==============================] - 0s 21ms/step - loss: 0.2378 - accuracy: 0.8886 - val_loss: 0.3546 - val_accuracy: 0.8525\n",
      "Epoch 64/100\n",
      "23/23 [==============================] - 0s 21ms/step - loss: 0.2340 - accuracy: 0.8902 - val_loss: 0.3504 - val_accuracy: 0.8648\n",
      "Epoch 65/100\n",
      "23/23 [==============================] - 1s 23ms/step - loss: 0.2316 - accuracy: 0.8906 - val_loss: 0.3530 - val_accuracy: 0.8586\n",
      "Epoch 66/100\n",
      "23/23 [==============================] - 0s 21ms/step - loss: 0.2343 - accuracy: 0.8877 - val_loss: 0.3518 - val_accuracy: 0.8525\n",
      "Epoch 67/100\n",
      "23/23 [==============================] - 0s 20ms/step - loss: 0.2368 - accuracy: 0.8883 - val_loss: 0.3570 - val_accuracy: 0.8607\n",
      "Epoch 68/100\n",
      "23/23 [==============================] - 1s 23ms/step - loss: 0.2314 - accuracy: 0.8893 - val_loss: 0.3680 - val_accuracy: 0.8525\n",
      "Epoch 69/100\n",
      "23/23 [==============================] - 0s 21ms/step - loss: 0.2325 - accuracy: 0.8887 - val_loss: 0.3487 - val_accuracy: 0.8586\n",
      "Epoch 70/100\n",
      "23/23 [==============================] - 0s 21ms/step - loss: 0.2320 - accuracy: 0.8925 - val_loss: 0.3654 - val_accuracy: 0.8566\n",
      "Epoch 71/100\n",
      "23/23 [==============================] - 1s 23ms/step - loss: 0.2320 - accuracy: 0.8922 - val_loss: 0.3515 - val_accuracy: 0.8586\n",
      "Epoch 72/100\n",
      "23/23 [==============================] - 0s 19ms/step - loss: 0.2291 - accuracy: 0.8949 - val_loss: 0.3566 - val_accuracy: 0.8586\n",
      "Epoch 73/100\n",
      "23/23 [==============================] - 1s 23ms/step - loss: 0.2373 - accuracy: 0.8895 - val_loss: 0.3567 - val_accuracy: 0.8750\n",
      "Epoch 74/100\n",
      "23/23 [==============================] - 1s 23ms/step - loss: 0.2353 - accuracy: 0.8894 - val_loss: 0.3384 - val_accuracy: 0.8750\n",
      "Epoch 75/100\n",
      "23/23 [==============================] - 0s 20ms/step - loss: 0.2325 - accuracy: 0.8891 - val_loss: 0.3475 - val_accuracy: 0.8730\n",
      "Epoch 76/100\n",
      "23/23 [==============================] - 1s 22ms/step - loss: 0.2380 - accuracy: 0.8877 - val_loss: 0.3623 - val_accuracy: 0.8586\n",
      "Epoch 77/100\n",
      "23/23 [==============================] - 1s 23ms/step - loss: 0.2343 - accuracy: 0.8900 - val_loss: 0.3536 - val_accuracy: 0.8750\n",
      "Epoch 78/100\n",
      "23/23 [==============================] - 0s 20ms/step - loss: 0.2297 - accuracy: 0.8911 - val_loss: 0.3525 - val_accuracy: 0.8607\n",
      "Epoch 79/100\n",
      "23/23 [==============================] - 0s 22ms/step - loss: 0.2295 - accuracy: 0.8912 - val_loss: 0.3450 - val_accuracy: 0.8750\n",
      "Epoch 80/100\n",
      "23/23 [==============================] - 1s 23ms/step - loss: 0.2270 - accuracy: 0.8940 - val_loss: 0.3513 - val_accuracy: 0.8586\n",
      "Epoch 81/100\n",
      "23/23 [==============================] - 1s 22ms/step - loss: 0.2282 - accuracy: 0.8913 - val_loss: 0.3474 - val_accuracy: 0.8607\n",
      "Epoch 82/100\n",
      "23/23 [==============================] - 1s 26ms/step - loss: 0.2281 - accuracy: 0.8913 - val_loss: 0.3598 - val_accuracy: 0.8627\n",
      "Epoch 83/100\n",
      "23/23 [==============================] - 0s 21ms/step - loss: 0.2333 - accuracy: 0.8905 - val_loss: 0.3557 - val_accuracy: 0.8709\n",
      "Epoch 84/100\n",
      "23/23 [==============================] - 1s 22ms/step - loss: 0.2323 - accuracy: 0.8897 - val_loss: 0.3537 - val_accuracy: 0.8709\n",
      "Epoch 85/100\n",
      "23/23 [==============================] - 1s 25ms/step - loss: 0.2314 - accuracy: 0.8915 - val_loss: 0.3460 - val_accuracy: 0.8627\n",
      "Epoch 86/100\n",
      "23/23 [==============================] - 0s 22ms/step - loss: 0.2305 - accuracy: 0.8921 - val_loss: 0.3519 - val_accuracy: 0.8586\n",
      "Epoch 87/100\n",
      "23/23 [==============================] - 0s 20ms/step - loss: 0.2307 - accuracy: 0.8926 - val_loss: 0.3529 - val_accuracy: 0.8709\n",
      "Epoch 88/100\n",
      "23/23 [==============================] - 1s 22ms/step - loss: 0.2294 - accuracy: 0.8934 - val_loss: 0.3530 - val_accuracy: 0.8689\n",
      "Epoch 89/100\n",
      "23/23 [==============================] - 0s 20ms/step - loss: 0.2338 - accuracy: 0.8885 - val_loss: 0.3545 - val_accuracy: 0.8668\n",
      "Epoch 90/100\n",
      "23/23 [==============================] - 0s 20ms/step - loss: 0.2316 - accuracy: 0.8918 - val_loss: 0.3472 - val_accuracy: 0.8627\n",
      "Epoch 91/100\n",
      "23/23 [==============================] - 1s 23ms/step - loss: 0.2309 - accuracy: 0.8904 - val_loss: 0.3605 - val_accuracy: 0.8545\n",
      "Epoch 92/100\n",
      "23/23 [==============================] - 0s 21ms/step - loss: 0.2318 - accuracy: 0.8898 - val_loss: 0.3721 - val_accuracy: 0.8627\n",
      "Epoch 93/100\n",
      "23/23 [==============================] - 0s 19ms/step - loss: 0.2332 - accuracy: 0.8921 - val_loss: 0.3446 - val_accuracy: 0.8709\n",
      "Epoch 94/100\n",
      "23/23 [==============================] - 1s 22ms/step - loss: 0.2318 - accuracy: 0.8919 - val_loss: 0.3574 - val_accuracy: 0.8648\n",
      "Epoch 95/100\n",
      "23/23 [==============================] - 0s 21ms/step - loss: 0.2292 - accuracy: 0.8935 - val_loss: 0.3698 - val_accuracy: 0.8730\n",
      "Epoch 96/100\n",
      "23/23 [==============================] - 0s 20ms/step - loss: 0.2338 - accuracy: 0.8885 - val_loss: 0.3414 - val_accuracy: 0.8709\n",
      "Epoch 97/100\n",
      "23/23 [==============================] - 0s 22ms/step - loss: 0.2337 - accuracy: 0.8927 - val_loss: 0.3423 - val_accuracy: 0.8627\n",
      "Epoch 98/100\n",
      "23/23 [==============================] - 0s 19ms/step - loss: 0.2319 - accuracy: 0.8927 - val_loss: 0.3421 - val_accuracy: 0.8668\n",
      "Epoch 99/100\n",
      "23/23 [==============================] - 0s 20ms/step - loss: 0.2326 - accuracy: 0.8895 - val_loss: 0.3637 - val_accuracy: 0.8525\n",
      "Epoch 100/100\n",
      "23/23 [==============================] - 1s 23ms/step - loss: 0.2272 - accuracy: 0.8945 - val_loss: 0.3658 - val_accuracy: 0.8566\n"
     ]
    }
   ],
   "source": [
    "nep_eng_history = nep_eng_translator.fit(\n",
    "    nep_eng_train_ds, \n",
    "    epochs=100, \n",
    "    validation_data=nep_eng_val_ds\n",
    "    )"
   ]
  },
  {
   "cell_type": "markdown",
   "metadata": {},
   "source": [
    "To avoid training and retraining the model, I'll now save this model with these results."
   ]
  },
  {
   "cell_type": "code",
   "execution_count": 114,
   "metadata": {},
   "outputs": [],
   "source": [
    "nep_eng_translator.save('models/nep-eng-translator.keras')"
   ]
  },
  {
   "cell_type": "markdown",
   "metadata": {},
   "source": [
    "Now, for future testing, I can reopen the model."
   ]
  },
  {
   "cell_type": "code",
   "execution_count": null,
   "metadata": {},
   "outputs": [],
   "source": [
    "nep_eng_translator = tf.keras.models.load_model('models/nep-eng-translator.keras')"
   ]
  },
  {
   "cell_type": "markdown",
   "metadata": {},
   "source": [
    "### Visualizing the Training Results\n",
    "\n",
    "Below we can see a visualization of how loss and accuracy evolved over the course of training. Surprisingly, performance is substantially better in this model!"
   ]
  },
  {
   "cell_type": "code",
   "execution_count": 118,
   "metadata": {},
   "outputs": [
    {
     "data": {
      "image/png": "[encoded data removed]",
      "text/plain": [
       "<Figure size 800x800 with 2 Axes>"
      ]
     },
     "metadata": {},
     "output_type": "display_data"
    }
   ],
   "source": [
    "acc = nep_eng_history.history['accuracy']\n",
    "val_acc = nep_eng_history.history['val_accuracy']\n",
    "\n",
    "loss = nep_eng_history.history['loss']\n",
    "val_loss = nep_eng_history.history['val_loss']\n",
    "\n",
    "epochs_range = range(100)\n",
    "\n",
    "plt.figure(figsize=(8, 8))\n",
    "plt.subplot(1, 2, 1)\n",
    "plt.plot(epochs_range, acc, label='Training Accuracy')\n",
    "plt.plot(epochs_range, val_acc, label='Validation Accuracy')\n",
    "plt.legend(loc='lower right')\n",
    "plt.title('Training and Validation Accuracy')\n",
    "\n",
    "plt.subplot(1, 2, 2)\n",
    "plt.plot(epochs_range, loss, label='Training Loss')\n",
    "plt.plot(epochs_range, val_loss, label='Validation Loss')\n",
    "plt.legend(loc='upper right')\n",
    "plt.title('Training and Validation Loss')\n",
    "plt.show()"
   ]
  },
  {
   "cell_type": "markdown",
   "metadata": {},
   "source": [
    "## English Language Text Generator\n",
    "\n",
    "For the text generator, I will create a mini-GPT model for text generation uses the KerasNLP library. This model will be trained on the simplebooks-92 dataset. This dataset uses a simplified English vocabulary. This is useful both for training purposes and for creating generated output that is readily understandable by individuals who do not speak English as a first language.\n",
    "\n",
    "To create this model, I drew on the Keras suggested tutorial for text generation that can be found here:\n",
    "\n",
    "https://keras.io/examples/generative/text_generation_gpt/"
   ]
  },
  {
   "cell_type": "markdown",
   "metadata": {},
   "source": [
    "### Settings\n",
    "\n",
    "Below I've selected some key hyperparameters. Particularly notable here is the minimum traing sequence length. This sets the smallest number of tokens that will be examined by the model during training. We want this number to be large enough that the model is not attempting to train on single words or brief phrases which may eat up training time while providing little in the way of performance improvements.\n",
    "\n",
    "Additionally, NUM_TOKENS_TO_GENERATE decides how many tokens will appear in the output of the model. I've set this value to be relatively low. There are two reasons for this. \n",
    "\n",
    "First, in testing, shorter outputs were more likely to be coherent sentences that expressed a single proposition. Given that outputs are meant to be translated and understood, coherence is extremely important. \n",
    "\n",
    "Second, because the output sentences are meant to be translated and learned by a student, we want them to be short and simple enough to be readily understood and learned, even by a beginner."
   ]
  },
  {
   "cell_type": "code",
   "execution_count": 85,
   "metadata": {},
   "outputs": [],
   "source": [
    "BATCH_SIZE = 64\n",
    "SEQ_LEN = 128\n",
    "MIN_TRAINING_SEQ_LEN = 450\n",
    "\n",
    "EMBED_DIM = 256\n",
    "FEED_FORWARD_DIM = 256\n",
    "NUM_HEADS = 3\n",
    "NUM_LAYERS = 2\n",
    "VOCAB_SIZE = 5000\n",
    "\n",
    "EPOCHS = 50\n",
    "\n",
    "NUM_CHAR_TO_GENERATE = 50"
   ]
  },
  {
   "cell_type": "markdown",
   "metadata": {},
   "source": [
    "### Load Simplebooks Data"
   ]
  },
  {
   "cell_type": "code",
   "execution_count": 25,
   "metadata": {},
   "outputs": [],
   "source": [
    "raw_train_ds = (\n",
    "    tf.data.TextLineDataset('datasets/simplebooks/simplebooks-92-raw/train.txt')\n",
    "    .filter(lambda x: tf.strings.length(x) > MIN_TRAINING_SEQ_LEN)\n",
    "    .batch(BATCH_SIZE)\n",
    "    .shuffle(buffer_size=256)\n",
    ")\n",
    "\n",
    "raw_val_ds = (\n",
    "    tf.data.TextLineDataset(\"datasets/simplebooks/simplebooks-92-raw/valid.txt\")\n",
    "    .filter(lambda x: tf.strings.length(x) > MIN_TRAINING_SEQ_LEN)\n",
    "    .batch(BATCH_SIZE)\n",
    ")"
   ]
  },
  {
   "cell_type": "markdown",
   "metadata": {},
   "source": [
    "### Tokenizer for Generator\n",
    "Here I've defined the vocabulary for the model. This vocabulary is made up of words ('tokens') from the dataset that the model needs to be able to represent and understand.\n",
    "\n",
    "PAD, UNK, BOS represent padding, unknown, and beginning-of-sentence. These tokens are set aside as non-words for our purposes.\n",
    "\n",
    "I've then loaded in KerasNLP's tokenizer and used it to preprocess the data for training. This strips out punctuation, sets every word to be all lowercase and then assigns a unique integer to each word. This allows the model to train on the data as quantified data.\n",
    "\n",
    "Although I've already created a vocabulary and tokenizer for the translator models above, because the set of English sentences in the translation data set is so small, it is necessary to create new ones for the generator model.\n",
    "\n",
    "Note, if you are re-running this notebook, the vocabulary computation is quite slow."
   ]
  },
  {
   "cell_type": "code",
   "execution_count": 26,
   "metadata": {},
   "outputs": [],
   "source": [
    "vocab = keras_nlp.tokenizers.compute_word_piece_vocabulary(\n",
    "    raw_train_ds,\n",
    "    vocabulary_size = VOCAB_SIZE,\n",
    "    lowercase = True,\n",
    "    reserved_tokens = [\"[PAD]\", \"[UNK]\", \"[BOS]\"],\n",
    ")"
   ]
  },
  {
   "cell_type": "code",
   "execution_count": 39,
   "metadata": {},
   "outputs": [],
   "source": [
    "gen_tokenizer = keras_nlp.tokenizers.WordPieceTokenizer(\n",
    "    vocabulary=vocab,\n",
    "    sequence_length=SEQ_LEN,\n",
    "    lowercase=True,\n",
    ")"
   ]
  },
  {
   "cell_type": "code",
   "execution_count": 47,
   "metadata": {},
   "outputs": [],
   "source": [
    "start_packer = keras_nlp.layers.StartEndPacker(\n",
    "    sequence_length=SEQ_LEN,\n",
    "    start_value=gen_tokenizer.token_to_id(\"[BOS]\")\n",
    ")\n",
    "\n",
    "def preprocess(inputs):\n",
    "    outputs = gen_tokenizer(inputs)\n",
    "    features = start_packer(outputs)\n",
    "    labels = outputs\n",
    "    return features, labels\n",
    "\n",
    "train_ds = raw_train_ds.map(tf.autograph.experimental.do_not_convert(preprocess), num_parallel_calls=AUTOTUNE).prefetch(AUTOTUNE)\n",
    "\n",
    "val_ds = raw_val_ds.map(tf.autograph.experimental.do_not_convert(preprocess), num_parallel_calls=AUTOTUNE).prefetch(AUTOTUNE)"
   ]
  },
  {
   "cell_type": "markdown",
   "metadata": {},
   "source": [
    "### Constructing the Model\n",
    "\n",
    "Now we can actually create the model. This model is another Auto-encoder.\n",
    "\n",
    "This model is very similar architecturally to the translator model. Tokens are passed to an input layer and then to an embedding layer which accounts for both the number associated with the token as well as the position of the token in its sentential context. This then downsamples the sentence to an embedding.\n",
    "\n",
    "These embeddings are then passed to a decoder layer that attempts to generate a sentence by upsampling from the embedding."
   ]
  },
  {
   "cell_type": "code",
   "execution_count": 31,
   "metadata": {},
   "outputs": [],
   "source": [
    "inputs = keras.layers.Input(shape=(None,), dtype=tf.int32)\n",
    "\n",
    "embedding_layer = keras_nlp.layers.TokenAndPositionEmbedding(\n",
    "    vocabulary_size=VOCAB_SIZE,\n",
    "    sequence_length=SEQ_LEN,\n",
    "    embedding_dim=EMBED_DIM,\n",
    "    mask_zero=True,\n",
    ")\n",
    "\n",
    "x = embedding_layer(inputs)\n",
    "\n",
    "for _ in range(NUM_LAYERS):\n",
    "    decoder_layer = keras_nlp.layers.TransformerDecoder(\n",
    "        num_heads=NUM_HEADS,\n",
    "        intermediate_dim=FEED_FORWARD_DIM,\n",
    "    )\n",
    "    x = decoder_layer(x)\n",
    "\n",
    "outputs = keras.layers.Dense(VOCAB_SIZE)(x)\n",
    "generator = keras.Model(inputs=inputs, outputs=outputs)\n",
    "loss_fn = tf.keras.losses.SparseCategoricalCrossentropy(from_logits=True)"
   ]
  },
  {
   "cell_type": "markdown",
   "metadata": {},
   "source": [
    "Below, I've compiled the model. As before, the loss function is Sparse Categorical Crossentropy. Again, natural language is almost always going to be sparse data so this is the natural choice.\n",
    "\n",
    "Here I've used Adam as the optimizer. The smallness of the dataset isn't really a concern here so I've chosen Adam for it's ability to produce higher accuracy, even though the computation costs are a little higher."
   ]
  },
  {
   "cell_type": "code",
   "execution_count": 32,
   "metadata": {},
   "outputs": [],
   "source": [
    "generator.compile(optimizer='adam', loss=loss_fn, metrics=[])"
   ]
  },
  {
   "cell_type": "markdown",
   "metadata": {},
   "source": [
    "#### Model Summary"
   ]
  },
  {
   "cell_type": "code",
   "execution_count": 33,
   "metadata": {},
   "outputs": [
    {
     "name": "stdout",
     "output_type": "stream",
     "text": [
      "Model: \"model_3\"\n",
      "_________________________________________________________________\n",
      " Layer (type)                Output Shape              Param #   \n",
      "=================================================================\n",
      " input_2 (InputLayer)        [(None, None)]            0         \n",
      "                                                                 \n",
      " token_and_position_embeddi  (None, None, 256)         1312768   \n",
      " ng_3 (TokenAndPositionEmbe                                      \n",
      " dding)                                                          \n",
      "                                                                 \n",
      " transformer_decoder_3 (Tra  (None, None, 256)         394749    \n",
      " nsformerDecoder)                                                \n",
      "                                                                 \n",
      " transformer_decoder_4 (Tra  (None, None, 256)         394749    \n",
      " nsformerDecoder)                                                \n",
      "                                                                 \n",
      " dense_16 (Dense)            (None, None, 5000)        1285000   \n",
      "                                                                 \n",
      "=================================================================\n",
      "Total params: 3387266 (12.92 MB)\n",
      "Trainable params: 3387266 (12.92 MB)\n",
      "Non-trainable params: 0 (0.00 Byte)\n",
      "_________________________________________________________________\n"
     ]
    }
   ],
   "source": [
    "generator.summary()"
   ]
  },
  {
   "cell_type": "markdown",
   "metadata": {},
   "source": [
    "### Model Training\n",
    "\n",
    "Below, I've trained the model. Note that loss is dropping very slowly, which is to say, for a dataset this size the model converges very slowly. For a final product, far more epochs would be needed to achieve satisfactory results."
   ]
  },
  {
   "cell_type": "code",
   "execution_count": 88,
   "metadata": {},
   "outputs": [
    {
     "name": "stdout",
     "output_type": "stream",
     "text": [
      "Epoch 1/50\n",
      "   3168/Unknown - 126s 38ms/step - loss: 3.7765"
     ]
    },
    {
     "name": "stderr",
     "output_type": "stream",
     "text": [
      "2023-08-18 11:59:29.606552: I tensorflow/core/framework/local_rendezvous.cc:409] Local rendezvous send item cancelled. Key hash: 6603943071277581536\n",
      "2023-08-18 11:59:29.606607: I tensorflow/core/framework/local_rendezvous.cc:409] Local rendezvous send item cancelled. Key hash: 4098329605364189913\n",
      "2023-08-18 11:59:29.606640: I tensorflow/core/framework/local_rendezvous.cc:409] Local rendezvous send item cancelled. Key hash: 16341194706631034183\n"
     ]
    },
    {
     "name": "stdout",
     "output_type": "stream",
     "text": [
      "3169/3169 [==============================] - 127s 38ms/step - loss: 3.7765 - val_loss: 3.8371\n"
     ]
    },
    {
     "name": "stderr",
     "output_type": "stream",
     "text": [
      "2023-08-18 11:59:30.314296: I tensorflow/core/framework/local_rendezvous.cc:409] Local rendezvous send item cancelled. Key hash: 8472384756783010550\n",
      "2023-08-18 11:59:30.314341: I tensorflow/core/framework/local_rendezvous.cc:409] Local rendezvous send item cancelled. Key hash: 1432970336118965353\n"
     ]
    },
    {
     "name": "stdout",
     "output_type": "stream",
     "text": [
      "Epoch 2/50\n",
      "3169/3169 [==============================] - 121s 37ms/step - loss: 3.7560 - val_loss: 3.7982\n",
      "Epoch 3/50\n",
      "3169/3169 [==============================] - 110s 33ms/step - loss: 3.7386 - val_loss: 3.7830\n",
      "Epoch 4/50\n",
      "3169/3169 [==============================] - 107s 33ms/step - loss: 3.7217 - val_loss: 3.8098\n",
      "Epoch 5/50\n",
      "3169/3169 [==============================] - 119s 36ms/step - loss: 3.7087 - val_loss: 3.7441\n",
      "Epoch 6/50\n",
      "3169/3169 [==============================] - 110s 32ms/step - loss: 3.6967 - val_loss: 3.7557\n",
      "Epoch 7/50\n",
      "3169/3169 [==============================] - 102s 31ms/step - loss: 3.6859 - val_loss: 3.7628\n",
      "Epoch 8/50\n",
      "3169/3169 [==============================] - 101s 31ms/step - loss: 3.6766 - val_loss: 3.7362\n",
      "Epoch 9/50\n",
      "3169/3169 [==============================] - 106s 32ms/step - loss: 3.6688 - val_loss: 3.7375\n",
      "Epoch 10/50\n",
      "3169/3169 [==============================] - 108s 33ms/step - loss: 3.6617 - val_loss: 3.7417\n",
      "Epoch 11/50\n",
      "3169/3169 [==============================] - 130s 39ms/step - loss: 3.6559 - val_loss: 3.7191\n",
      "Epoch 12/50\n",
      "3169/3169 [==============================] - 114s 35ms/step - loss: 3.6492 - val_loss: 3.7226\n",
      "Epoch 13/50\n",
      "3169/3169 [==============================] - 119s 36ms/step - loss: 3.6436 - val_loss: 3.6952\n",
      "Epoch 14/50\n",
      "3169/3169 [==============================] - 116s 35ms/step - loss: 3.6389 - val_loss: 3.6960\n",
      "Epoch 15/50\n",
      "3169/3169 [==============================] - 117s 35ms/step - loss: 3.6338 - val_loss: 3.7120\n",
      "Epoch 16/50\n",
      "3169/3169 [==============================] - 111s 34ms/step - loss: 3.6303 - val_loss: 3.6950\n",
      "Epoch 17/50\n",
      "3169/3169 [==============================] - 109s 33ms/step - loss: 3.6262 - val_loss: 3.7143\n",
      "Epoch 18/50\n",
      "3169/3169 [==============================] - 109s 33ms/step - loss: 3.6224 - val_loss: 3.7224\n",
      "Epoch 19/50\n",
      "3169/3169 [==============================] - 112s 34ms/step - loss: 3.6198 - val_loss: 3.7073\n",
      "Epoch 20/50\n",
      "3169/3169 [==============================] - 113s 34ms/step - loss: 3.6160 - val_loss: 3.7016\n",
      "Epoch 21/50\n",
      "3169/3169 [==============================] - 130s 40ms/step - loss: 3.6131 - val_loss: 3.6911\n",
      "Epoch 22/50\n",
      "3169/3169 [==============================] - 121s 37ms/step - loss: 3.6101 - val_loss: 3.7070\n",
      "Epoch 23/50\n",
      "3169/3169 [==============================] - 140s 41ms/step - loss: 3.6079 - val_loss: 3.6862\n",
      "Epoch 24/50\n",
      "3169/3169 [==============================] - 133s 40ms/step - loss: 3.6052 - val_loss: 3.6918\n",
      "Epoch 25/50\n",
      "3169/3169 [==============================] - 132s 40ms/step - loss: 3.6027 - val_loss: 3.6840\n",
      "Epoch 26/50\n",
      "3169/3169 [==============================] - 124s 38ms/step - loss: 3.6007 - val_loss: 3.6916\n",
      "Epoch 27/50\n",
      "3169/3169 [==============================] - 135s 40ms/step - loss: 3.5995 - val_loss: 3.6916\n",
      "Epoch 28/50\n",
      "3169/3169 [==============================] - 121s 36ms/step - loss: 3.5968 - val_loss: 3.7013\n",
      "Epoch 29/50\n",
      "3169/3169 [==============================] - 125s 38ms/step - loss: 3.5948 - val_loss: 3.6827\n",
      "Epoch 30/50\n",
      "3169/3169 [==============================] - 115s 35ms/step - loss: 3.5935 - val_loss: 3.6793\n",
      "Epoch 31/50\n",
      "3169/3169 [==============================] - 117s 35ms/step - loss: 3.5916 - val_loss: 3.6709\n",
      "Epoch 32/50\n",
      "3169/3169 [==============================] - 126s 38ms/step - loss: 3.5893 - val_loss: 3.6897\n",
      "Epoch 33/50\n",
      "3169/3169 [==============================] - 129s 39ms/step - loss: 3.5879 - val_loss: 3.7001\n",
      "Epoch 34/50\n",
      "3169/3169 [==============================] - 116s 35ms/step - loss: 3.5865 - val_loss: 3.6823\n",
      "Epoch 35/50\n",
      "3169/3169 [==============================] - 112s 34ms/step - loss: 3.5849 - val_loss: 3.6880\n",
      "Epoch 36/50\n",
      "3169/3169 [==============================] - 112s 34ms/step - loss: 3.5830 - val_loss: 3.6953\n",
      "Epoch 37/50\n",
      "3169/3169 [==============================] - 111s 34ms/step - loss: 3.5816 - val_loss: 3.6737\n",
      "Epoch 38/50\n",
      "3169/3169 [==============================] - 113s 34ms/step - loss: 3.5805 - val_loss: 3.6803\n",
      "Epoch 39/50\n",
      "3169/3169 [==============================] - 108s 33ms/step - loss: 3.5789 - val_loss: 3.6807\n",
      "Epoch 40/50\n",
      "3169/3169 [==============================] - 106s 32ms/step - loss: 3.5783 - val_loss: 3.6953\n",
      "Epoch 41/50\n",
      "3169/3169 [==============================] - 120s 37ms/step - loss: 3.5761 - val_loss: 3.6894\n",
      "Epoch 42/50\n",
      "3169/3169 [==============================] - 113s 34ms/step - loss: 3.5759 - val_loss: 3.6887\n",
      "Epoch 43/50\n",
      "3169/3169 [==============================] - 107s 33ms/step - loss: 3.5748 - val_loss: 3.6860\n",
      "Epoch 44/50\n",
      "3169/3169 [==============================] - 117s 36ms/step - loss: 3.5730 - val_loss: 3.6890\n",
      "Epoch 45/50\n",
      "3169/3169 [==============================] - 110s 33ms/step - loss: 3.5726 - val_loss: 3.6725\n",
      "Epoch 46/50\n",
      "3169/3169 [==============================] - 114s 35ms/step - loss: 3.5713 - val_loss: 3.6919\n",
      "Epoch 47/50\n",
      "3169/3169 [==============================] - 108s 33ms/step - loss: 3.5709 - val_loss: 3.6709\n",
      "Epoch 48/50\n",
      "3169/3169 [==============================] - 110s 33ms/step - loss: 3.5694 - val_loss: 3.6882\n",
      "Epoch 49/50\n",
      "3169/3169 [==============================] - 111s 34ms/step - loss: 3.5683 - val_loss: 3.6811\n",
      "Epoch 50/50\n",
      "3169/3169 [==============================] - 109s 33ms/step - loss: 3.5672 - val_loss: 3.6706\n"
     ]
    },
    {
     "data": {
      "text/plain": [
       "<keras.src.callbacks.History at 0x7f908d113a00>"
      ]
     },
     "execution_count": 88,
     "metadata": {},
     "output_type": "execute_result"
    }
   ],
   "source": [
    "generator.fit(train_ds, validation_data=val_ds, epochs=EPOCHS)"
   ]
  },
  {
   "cell_type": "markdown",
   "metadata": {},
   "source": [
    "Like before, I'll save and reload the model for future testing."
   ]
  },
  {
   "cell_type": "code",
   "execution_count": 89,
   "metadata": {},
   "outputs": [],
   "source": [
    "# generator.save('models/text-generator.keras')"
   ]
  },
  {
   "cell_type": "code",
   "execution_count": null,
   "metadata": {},
   "outputs": [],
   "source": [
    "generator = tf.keras.models.load_model('models/text-generator.keras')"
   ]
  },
  {
   "cell_type": "markdown",
   "metadata": {},
   "source": [
    "### Testing the Text Generator\n",
    "\n",
    "Let's see what sort of results we're getting from the generator."
   ]
  },
  {
   "cell_type": "markdown",
   "metadata": {},
   "source": [
    "Like for the translator models, we need to select a sampler. The sampler is the algorithm used to pick the next work in our output sequence based on the probabilities that were calculated by the model. \n",
    "\n",
    "There are a a number of samplers to choose from. I've found the best results, the most coherent sentences, from using the Top P Sampler. \n",
    "\n",
    "The Top P Sampler takes a probability, say .9, and selects the most likely sequence of words that sum to that probability. This is different from other samplers which only select the most probable next single word. By using Top P we can get outputs that more closely resemble coherent phrases rather than strings of words that only make sense in context of the couple of words surrounding them."
   ]
  },
  {
   "cell_type": "markdown",
   "metadata": {},
   "source": [
    "Below, I've defined a \"generate\" function which takes in a prompt and returns a sentence generated by our model. Note that the generated outputs need to be cleaned before they are presentable. Like with the translations they are stripped of tokens that simply convey the beginnings and endings of sentences as well as unnecessary whitespace and potentially confusing punctuation."
   ]
  },
  {
   "cell_type": "code",
   "execution_count": 92,
   "metadata": {},
   "outputs": [],
   "source": [
    "def generate():\n",
    "    \n",
    "    def next(prompt, cache, index):\n",
    "        logits = generator(prompt)[:, index - 1, :]\n",
    "        hidden_states = None\n",
    "        return logits, hidden_states, cache\n",
    "    \n",
    "    def clean(txt):\n",
    "        clean_txt = txt.numpy()[0].decode(\"utf-8\")\n",
    "        clean_txt = (\n",
    "        clean_txt.replace(\"[PAD]\", \"\")\n",
    "        .replace(\"[START]\", \"\")\n",
    "        .replace(\"[END]\", \"\")\n",
    "        .replace(\"[BOS]\", \"\")\n",
    "        .replace(\",\", \"\")\n",
    "        .replace(\"!\", \".\")\n",
    "        .replace(\"?\", \".\")\n",
    "        .replace(\"\\'\", \"\")\n",
    "        .replace(\"\\\"\", \"\")\n",
    "        .replace(\";\", \"\")\n",
    "        .replace(\":\", \"\")\n",
    "        )\n",
    "        clean_txt = clean_txt[:NUM_CHAR_TO_GENERATE].split(\".\")[0].strip()\n",
    "\n",
    "        return clean_txt\n",
    "\n",
    "    prompt = start_packer(gen_tokenizer(['']))\n",
    "    sampler = keras_nlp.samplers.TopPSampler(p=0.9)\n",
    "    output_tokens = sampler(\n",
    "        next=next,\n",
    "        prompt = prompt,\n",
    "        index=1,\n",
    "    )\n",
    "    txt = clean(gen_tokenizer.detokenize(output_tokens))\n",
    "\n",
    "    return txt"
   ]
  },
  {
   "cell_type": "markdown",
   "metadata": {},
   "source": [
    "Ok, now let's pass a prompt to the model and see what we get!"
   ]
  },
  {
   "cell_type": "code",
   "execution_count": 93,
   "metadata": {},
   "outputs": [
    {
     "name": "stdout",
     "output_type": "stream",
     "text": [
      "Generated text: \n",
      "the bulk of a wagon had departed in front of his\n",
      "\n"
     ]
    }
   ],
   "source": [
    "txt = generate()\n",
    "\n",
    "print(f\"Generated text: \\n{txt}\\n\")"
   ]
  },
  {
   "cell_type": "markdown",
   "metadata": {},
   "source": [
    "## Conclusion"
   ]
  },
  {
   "cell_type": "markdown",
   "metadata": {},
   "source": [
    "We now have functions that translate from English to Nepali and from Nepali to English. We also have the ability to generate novel sentences in English. Let's take a look again at some examples."
   ]
  },
  {
   "cell_type": "markdown",
   "metadata": {},
   "source": [
    "### Example Translations"
   ]
  },
  {
   "cell_type": "code",
   "execution_count": 130,
   "metadata": {},
   "outputs": [
    {
     "name": "stdout",
     "output_type": "stream",
     "text": [
      "** Example 0 **\n",
      "no one brought us anything.\n",
      "तिमिसँग कुनैुख्ने छ ।\n",
      "\n",
      "** Example 1 **\n",
      "i didn't want to go, but i did.\n",
      "मलाई मौैले सक्षध्नेछु ।\n",
      "\n",
      "** Example 2 **\n",
      "sharkskin can be used like the skin of other animals.\n",
      "सुनकको लागि अपष्ट वाद्डा हो ।\n",
      "\n",
      "** Example 3 **\n",
      "tom just wanted to be helpful.\n",
      "टम जसरी चाहन्छु ।\n",
      "\n",
      "** Example 4 **\n",
      "this tea is too bitter.\n",
      "यो अक्बि धेरै राउँदै छ ।\n",
      "\n"
     ]
    }
   ],
   "source": [
    "test_eng_texts = [pair[0] for pair in test_pairs]\n",
    "for i in range(5):\n",
    "    input_sentence = random.choice(test_eng_texts)\n",
    "    translated = eng_nep_translate(tf.constant([input_sentence]))\n",
    "    translated = translated.numpy()[0].decode(\"utf-8\")\n",
    "    translated = (\n",
    "        translated.replace(\"[PAD]\", \"\")\n",
    "        .replace(\"[START]\", \"\")\n",
    "        .replace(\"[END]\", \"\")\n",
    "        .strip()\n",
    "    )\n",
    "\n",
    "    print(f\"** Example {i} **\")\n",
    "    print(input_sentence)\n",
    "    print(translated)\n",
    "    print()"
   ]
  },
  {
   "cell_type": "markdown",
   "metadata": {},
   "source": [
    "### Text Generation Examples"
   ]
  },
  {
   "cell_type": "code",
   "execution_count": 135,
   "metadata": {},
   "outputs": [
    {
     "name": "stdout",
     "output_type": "stream",
     "text": [
      "Generated text 0: \n",
      "of course he didn  t want to come out\n",
      "\n",
      "Generated text 1: \n",
      "rhoda and  on the way  the rest of the toys still\n",
      "\n",
      "Generated text 2: \n",
      "i got into the room where i had taken her in my\n",
      "\n",
      "Generated text 3: \n",
      "it is the story of the memmaest  whom you really\n",
      "\n",
      "Generated text 4: \n",
      "look\n",
      "\n"
     ]
    }
   ],
   "source": [
    "for i in range(5):\n",
    "    txt = generate()\n",
    "    print(f\"Generated text {i}: \\n{txt}\\n\")"
   ]
  },
  {
   "cell_type": "markdown",
   "metadata": {},
   "source": [
    "### Translating Generated Text\n",
    "\n",
    "Now let's look at translations of generated text."
   ]
  },
  {
   "cell_type": "code",
   "execution_count": 136,
   "metadata": {},
   "outputs": [
    {
     "name": "stdout",
     "output_type": "stream",
     "text": [
      "** Translation of Generated Text 0 **\n",
      "as time went on their stairs  they made up their\n",
      "जर्म्रो विदाको राजधानी रोद्याम्दिन मन पर्छ ।\n",
      "\n",
      "** Translation of Generated Text 1 **\n",
      "i wish it had to turn to the assault of trodden\n",
      "मैले के यो शंकाउनुझ्नुभगी ल्याप्त पीचको उठाबीमा हुनुचा घाइते भए ।\n",
      "\n",
      "** Translation of Generated Text 2 **\n",
      "several men were very anxious to know all the fac\n",
      "मलाई स्पष्ट रूपष्ट प्राकुक आगे केही फावना छैन ।\n",
      "\n",
      "** Translation of Generated Text 3 **\n",
      "his majesty spoke of his angry words  and was rea\n",
      "आफ्नो गर्मीमा धेरै रोधैं रात्तिताई दरस्ताता त मारिए वा घाइते भए ।\n",
      "\n",
      "** Translation of Generated Text 4 **\n",
      "by daybreak  sir john began to webbergs on the mo\n",
      "ब्रसेल पुचाउको नजिम्क पवित्रा चाहन्छु ।\n",
      "\n"
     ]
    }
   ],
   "source": [
    "for i in range(5):\n",
    "    input_sentence = generate()\n",
    "    translated = eng_nep_translate(tf.constant([input_sentence]))\n",
    "    translated = translated.numpy()[0].decode(\"utf-8\")\n",
    "    translated = (\n",
    "        translated.replace(\"[PAD]\", \"\")\n",
    "        .replace(\"[START]\", \"\")\n",
    "        .replace(\"[END]\", \"\")\n",
    "        .strip()\n",
    "    )\n",
    "\n",
    "    print(f\"** Translation of Generated Text {i} **\")\n",
    "    print(input_sentence)\n",
    "    print(translated)\n",
    "    print() "
   ]
  },
  {
   "cell_type": "markdown",
   "metadata": {},
   "source": [
    "So we've done it! This is a great starting place for an AI language tutor. We can translate a into and out of a new language and generate novel sentences for translation and study.\n",
    "\n",
    "Obviously these models are only a starting point. For a more robust product we will need much more robust data and significantly more training time. This is unfortunately a problem that plagues work on global minority languages. But, hopefully with tools like these we can start to move in the right direction!"
   ]
  }
 ],
 "metadata": {
  "kernelspec": {
   "display_name": "tf",
   "language": "python",
   "name": "python3"
  },
  "language_info": {
   "codemirror_mode": {
    "name": "ipython",
    "version": 3
   },
   "file_extension": ".py",
   "mimetype": "text/x-python",
   "name": "python",
   "nbconvert_exporter": "python",
   "pygments_lexer": "ipython3",
   "version": "3.9.17"
  },
  "orig_nbformat": 4
 },
 "nbformat": 4,
 "nbformat_minor": 2
}
